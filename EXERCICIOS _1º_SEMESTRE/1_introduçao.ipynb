{
  "cells": [
    {
      "cell_type": "markdown",
      "metadata": {
        "colab_type": "text",
        "id": "view-in-github"
      },
      "source": [
        "<a href=\"https://colab.research.google.com/github/lucasmorais2006/Exerc-cios-da-Discipina-de-Pensamento-Computacional/blob/main/1_introdu%C3%A7ao.ipynb\" target=\"_parent\"><img src=\"https://colab.research.google.com/assets/colab-badge.svg\" alt=\"Open In Colab\"/></a>"
      ]
    },
    {
      "cell_type": "code",
      "execution_count": null,
      "metadata": {
        "colab": {
          "base_uri": "https://localhost:8080/"
        },
        "id": "GKdaCmvV_Y70",
        "outputId": "4efd2dc9-a1a3-447d-ab8c-29e9ea6be8dd"
      },
      "outputs": [
        {
          "name": "stdout",
          "output_type": "stream",
          "text": [
            "Olá mundo!\n"
          ]
        }
      ],
      "source": [
        "print (\"Olá mundo!\")\n",
        "# Meu primeiro código em Phyton"
      ]
    },
    {
      "cell_type": "code",
      "execution_count": null,
      "metadata": {
        "colab": {
          "base_uri": "https://localhost:8080/"
        },
        "id": "RO9tYTuUoRnn",
        "outputId": "adbf592d-0013-4521-8735-be00dcc2ef4d"
      },
      "outputs": [
        {
          "name": "stdout",
          "output_type": "stream",
          "text": [
            "O Lucas Morais tem  18  anos!\n",
            "É maior de idade!\n",
            "O Lucas Morais é obrigado a votar!\n"
          ]
        }
      ],
      "source": [
        "# Algoritmo para indicar maioridade\n",
        "\n",
        "nome = \"Lucas Morais\"\n",
        "idade = 18\n",
        "\n",
        "print (\"O \" + nome + \" tem \", idade,\" anos!\")\n",
        "# MAIORIDADE\n",
        "if idade >= 18:\n",
        "    print (\"É maior de idade!\")\n",
        "else:\n",
        "    print (\"Não é maior de idade!\")\n",
        "# VOTO ELEITORAL\n",
        "if idade >= 18 and idade < 65:\n",
        "  print (\"O\",nome,\"é obrigado a votar!\")\n",
        "elif idade < 16:\n",
        "  print (\"O\",nome,\"não pode votar!\")\n",
        "else:\n",
        "  print (\"O\",nome,\"é facultativo para votar!\")"
      ]
    },
    {
      "cell_type": "markdown",
      "metadata": {
        "id": "B3IA5nwIrF9x"
      },
      "source": [
        "Vetificar maioridade\n"
      ]
    },
    {
      "cell_type": "code",
      "execution_count": null,
      "metadata": {
        "colab": {
          "base_uri": "https://localhost:8080/"
        },
        "id": "vsENO6dDqAli",
        "outputId": "498f8043-c31a-4fda-83d1-52a74c30af99"
      },
      "outputs": [
        {
          "name": "stdout",
          "output_type": "stream",
          "text": [
            "É maior de idade!\n"
          ]
        }
      ],
      "source": [
        "if idade >= 18:\n",
        "    print (\"É maior de idade!\")\n",
        "else:\n",
        "    print (\"Não é maior de idade!\")"
      ]
    },
    {
      "cell_type": "code",
      "execution_count": null,
      "metadata": {
        "colab": {
          "base_uri": "https://localhost:8080/"
        },
        "id": "zBNa6NZyrUE4",
        "outputId": "fd56a621-1f2e-466f-8d21-7f3638da13d6"
      },
      "outputs": [
        {
          "name": "stdout",
          "output_type": "stream",
          "text": [
            "O Lucas Morais é obrigado a votar!\n"
          ]
        }
      ],
      "source": [
        "if idade >= 18 and idade < 65:\n",
        "  print (\"O\",nome,\"é obrigado a votar!\")\n",
        "else:\n",
        "  if idade < 16:\n",
        "    print (\"O\",nome,\"não pode votar!\")\n",
        "  else:\n",
        "    if idade >=16 and idade < 18 or idade >= 65:\n",
        "      print (\"O\",nome,\"é facultativo para votar!\")"
      ]
    },
    {
      "cell_type": "markdown",
      "metadata": {
        "id": "hMzfkD4D0feT"
      },
      "source": [
        "Laços de repetição\n"
      ]
    },
    {
      "cell_type": "code",
      "execution_count": null,
      "metadata": {
        "colab": {
          "base_uri": "https://localhost:8080/"
        },
        "id": "gg2MNrJY0dYk",
        "outputId": "bed01aef-ebbb-4483-b557-a0b3b75a1a2e"
      },
      "outputs": [
        {
          "name": "stdout",
          "output_type": "stream",
          "text": [
            "Interação 0 !\n",
            "Interação 1 !\n",
            "Interação 2 !\n",
            "Interação 3 !\n",
            "Interação 4 !\n"
          ]
        }
      ],
      "source": [
        "for i in range(5):\n",
        "  print (\"Interação\",i,\"!\")"
      ]
    }
  ],
  "metadata": {
    "colab": {
      "authorship_tag": "ABX9TyO0NYEIo0a9+xT0tE5a4n2z",
      "include_colab_link": true,
      "provenance": []
    },
    "kernelspec": {
      "display_name": "Python 3",
      "name": "python3"
    },
    "language_info": {
      "name": "python"
    }
  },
  "nbformat": 4,
  "nbformat_minor": 0
}
