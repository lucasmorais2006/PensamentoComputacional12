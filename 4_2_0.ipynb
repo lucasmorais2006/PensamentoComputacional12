{
  "cells": [
    {
      "cell_type": "markdown",
      "metadata": {
        "id": "view-in-github",
        "colab_type": "text"
      },
      "source": [
        "<a href=\"https://colab.research.google.com/github/lucasmorais2006/Exerc-cios-da-Discipina-de-Pensamento-Computacional/blob/main/4_2_0.ipynb\" target=\"_parent\"><img src=\"https://colab.research.google.com/assets/colab-badge.svg\" alt=\"Open In Colab\"/></a>"
      ]
    },
    {
      "cell_type": "markdown",
      "metadata": {
        "id": "UB0H0djgB1wB"
      },
      "source": [
        "Exemplo senha"
      ]
    },
    {
      "cell_type": "code",
      "execution_count": null,
      "metadata": {
        "colab": {
          "base_uri": "https://localhost:8080/"
        },
        "id": "1cVDryHq_qlj",
        "outputId": "34102d47-cd75-4daa-91cf-c44d50bb52d5"
      },
      "outputs": [
        {
          "output_type": "stream",
          "name": "stdout",
          "text": [
            "Digite a senha: 1223\n",
            "Senha incorreta!\n",
            "Digite a senha: 1432\n",
            "Senha incorreta!\n",
            "Digite a senha: 4444\n",
            "Senha correta\n",
            "Porta liberada!\n"
          ]
        }
      ],
      "source": [
        "import time\n",
        "senha = \"4444\"\n",
        "senha_digitada = \"\"\n",
        "cnt_tentativas = 0\n",
        "while True:\n",
        "  senha_digitada = input(\"Digite a senha: \")\n",
        "  cnt_tentativas += 1\n",
        "  if senha_digitada == senha:\n",
        "    print(\"Senha correta\")\n",
        "    break\n",
        "  else:\n",
        "    print(\"Senha incorreta!\")\n",
        "\n",
        "  if cnt_tentativas >= 3:\n",
        "    print(\"3 tentativas erradas! Aguarde por 60 segundos\")\n",
        "    time.sleep(cnt_tentativas*20) #\"dorme\" por 60 segundos\n",
        "\n",
        "print(\"Porta liberada!\")"
      ]
    },
    {
      "cell_type": "markdown",
      "metadata": {
        "id": "vGdsRIelB5qB"
      },
      "source": [
        "1. Faça um algoritmo em Python que leia a nota de vários alunos de uma turma. Ao final, deve ser\n",
        "escrita a média geral da turma. A leitura das médias somente encerra quando uma nota negativa\n",
        "for digitada."
      ]
    },
    {
      "cell_type": "code",
      "execution_count": null,
      "metadata": {
        "colab": {
          "base_uri": "https://localhost:8080/"
        },
        "id": "CT4hXf6BCa3g",
        "outputId": "714178f9-84b8-47b4-9f54-389c1cbe6ba6"
      },
      "outputs": [
        {
          "name": "stdout",
          "output_type": "stream",
          "text": [
            "Digite a média do aluno: 6\n",
            "Digite a média do aluno: 6\n",
            "Digite a média do aluno: 5\n",
            "Digite a média do aluno: 7\n",
            "Digite a média do aluno: -1\n",
            "6.0\n"
          ]
        }
      ],
      "source": [
        "media_geral = 0\n",
        "medias = 0\n",
        "cnt_medias = 0\n",
        "while medias >= 0:\n",
        "  medias = float(input(\"Digite a média do aluno: \"))\n",
        "  if medias >= 0:\n",
        "    media_geral = media_geral + medias\n",
        "    cnt_medias = cnt_medias + 1\n",
        "print(media_geral/cnt_medias)\n",
        "\n"
      ]
    },
    {
      "cell_type": "markdown",
      "metadata": {
        "id": "S8EieOHhHBQE"
      },
      "source": [
        "2. Faça um programa em Python para repetir a leitura de um número enquanto o valor fornecido for\n",
        "diferente de 0. Para cada número fornecido, escrever se ele é NEGATIVO ou POSITIVO. Quando\n",
        "o número 0 for fornecido o algoritmo deve encerrar informando o usuário."
      ]
    },
    {
      "cell_type": "code",
      "execution_count": null,
      "metadata": {
        "colab": {
          "base_uri": "https://localhost:8080/"
        },
        "id": "Q1bt6zrJHDfk",
        "outputId": "8b438c04-d6a4-441a-b86c-b9db483d019b"
      },
      "outputs": [
        {
          "name": "stdout",
          "output_type": "stream",
          "text": [
            "Digite um número: 6\n",
            "Positivo\n",
            "Digite um número: 5\n",
            "Positivo\n",
            "Digite um número: 0\n"
          ]
        }
      ],
      "source": [
        "numeros = 1\n",
        "while numeros != 0:\n",
        "  numeros = int(input(\"Digite um número: \"))\n",
        "  if numeros > 0:\n",
        "    print(\"Positivo\")\n",
        "  elif numeros < 0:\n",
        "    print(\"Negativo\")"
      ]
    },
    {
      "cell_type": "markdown",
      "metadata": {
        "id": "mwLphHZwHQH7"
      },
      "source": [
        "3. Faça um programa em Python para ler uma quantidade indeterminada de valores inteiros. Para\n",
        "cada valor fornecido apresentar uma mensagem que indique se o valor fornecido é PAR ou\n",
        "ÍMPAR. O programa será encerrado imediatamente após a leitura de um valor NULO (zero) ou\n",
        "NEGATIVO."
      ]
    },
    {
      "cell_type": "code",
      "execution_count": null,
      "metadata": {
        "colab": {
          "base_uri": "https://localhost:8080/"
        },
        "id": "-lyxziQaHSt8",
        "outputId": "1ac69059-8f0f-450c-92ef-8116b8c61e31"
      },
      "outputs": [
        {
          "name": "stdout",
          "output_type": "stream",
          "text": [
            "Digite um valor: 6\n",
            "Par\n",
            "Digite um valor: 4\n",
            "Par\n",
            "Digite um valor: 0\n",
            "Par\n"
          ]
        }
      ],
      "source": [
        "valores = 1\n",
        "while valores > 0:\n",
        "  valores = int(input(\"Digite um valor: \"))\n",
        "  if valores % 2 == 0:\n",
        "    print(\"Par\")\n",
        "  else:\n",
        "    print(\"Impar\")"
      ]
    },
    {
      "cell_type": "markdown",
      "metadata": {
        "id": "VMKaom9OJHua"
      },
      "source": [
        "4. Sabe-se que não existe divisão por zero, para isso faça um programa que leia dois valores inteiros\n",
        "e escreva o resultado da divisão do primeiro pelo segundo. Se o segundo valor informado for\n",
        "ZERO, deve ser impressa uma mensagem de VALOR INVÁLIDO e uma nova leitura do segundo\n",
        "valor deve ser realizada. Ao final do programa deve ser impressa a seguinte mensagem: VOCÊ\n",
        "DESEJA OUTRO CÁLCULO (S/N). Se a resposta for S o programa deverá retornar ao começo,\n",
        "caso contrário deverá encerrar."
      ]
    },
    {
      "cell_type": "code",
      "execution_count": null,
      "metadata": {
        "colab": {
          "base_uri": "https://localhost:8080/"
        },
        "id": "4PLsgA09JKI6",
        "outputId": "487f5da4-a9cc-411e-98d8-3e51b0169188"
      },
      "outputs": [
        {
          "output_type": "stream",
          "name": "stdout",
          "text": [
            "Digite o primeiro número: 4\n",
            "Digite o segundo número: 0\n",
            "VALOR INVÁLIDO\n",
            "Digite o segundo número: 2\n",
            "Resultado da divisão:  2.0\n",
            "VOCÊ DESEJA OUTRO CÁLCULO (S/N)? N\n",
            "Programa encerrado.\n"
          ]
        }
      ],
      "source": [
        "while True:\n",
        "    num1 = int(input(\"Digite o primeiro número: \"))\n",
        "    while True:\n",
        "        num2 = int(input(\"Digite o segundo número: \"))\n",
        "        if num2 == 0:\n",
        "            print(\"VALOR INVÁLIDO\")\n",
        "        else:\n",
        "            break\n",
        "    resultado = num1 / num2\n",
        "    print(\"Resultado da divisão: \",resultado)\n",
        "    resposta = input(\"VOCÊ DESEJA OUTRO CÁLCULO (S/N)? \")\n",
        "    if resposta != 'S':\n",
        "        print(\"Programa encerrado.\")\n",
        "        break\n"
      ]
    },
    {
      "cell_type": "markdown",
      "source": [
        "5. Faça um programa em Python que verifique a validade de uma senha fornecida pelo usuário. A\n",
        "senha válida é o número 1234.\n",
        "OBS: Se a senha informada pelo usuário for inválida, a mensagem \"ACESSO NEGADO\" deve\n",
        "ser impressa e repetida a solicitação de uma nova senha até que ela seja válida. Caso\n",
        "contrário deve ser impressa a mensagem \"ACESSO PERMITIDO\" junto com um número\n",
        "que representa quantas vezes a senha foi informada."
      ],
      "metadata": {
        "id": "fn7pLy0EPeIA"
      }
    },
    {
      "cell_type": "code",
      "source": [
        "quantidade_informada = 0\n",
        "senha_inserida = \"\"\n",
        "senha_correta = \"1234\"\n",
        "while senha_inserida != senha_correta:\n",
        "  senha_inserida = input(\"Digite a senha: \")\n",
        "  quantidade_informada = quantidade_informada + 1\n",
        "  if senha_inserida == senha_correta:\n",
        "    print(\"ACESSO PERMITIDO\")\n",
        "    print(quantidade_informada,\"Tentativa(s)\")\n",
        "  else:\n",
        "    print(\"ACESSO NEGADO\")"
      ],
      "metadata": {
        "colab": {
          "base_uri": "https://localhost:8080/"
        },
        "id": "mGmzRXXhPgJ8",
        "outputId": "38b994a1-4b31-4759-b505-160cf7149bab"
      },
      "execution_count": null,
      "outputs": [
        {
          "output_type": "stream",
          "name": "stdout",
          "text": [
            "Digite a senha: 24434\n",
            "ACESSO NEGADO\n",
            "Digite a senha: 5235424\n",
            "ACESSO NEGADO\n",
            "Digite a senha: 1234\n",
            "ACESSO PERMITIDO\n",
            "3 Tentativa(s)\n"
          ]
        }
      ]
    },
    {
      "cell_type": "markdown",
      "source": [
        "Faça um programa em Python que verifique a validade de uma senha fornecida pelo usuário. A\n",
        "senha válida é o número 1234. Se a senha informada pelo usuário for válida a mensagem\n",
        "\"ACESSO PERMITIDO\" deve ser informada. O usuário não terá acesso ao sistema se errar a\n",
        "senha três vezes, neste caso a mensagem \"ACESSO NEGADO\" deve ser informada e a cada vez\n",
        "que o usuário errar a senha, dentro do limite, a mensagem informada será \"SENHA ERRADA,\n",
        "TENTATIVA X DE 3\", sendo o X o número da tentativa."
      ],
      "metadata": {
        "id": "Ad3eBb3IQxt9"
      }
    },
    {
      "cell_type": "code",
      "source": [
        "quantidade_informada = 0\n",
        "senha_inserida = \"\"\n",
        "senha_correta = \"1234\"\n",
        "X = 0\n",
        "while senha_inserida != senha_correta:\n",
        "  senha_inserida = input(\"Digite a senha: \")\n",
        "  quantidade_informada = quantidade_informada + 1\n",
        "  if senha_inserida == senha_correta:\n",
        "    print(\"ACESSO PERMITIDO\")\n",
        "    print(quantidade_informada,\"Tentativa(s)\")\n",
        "  else:\n",
        "    X = X + 1\n",
        "    print(\"SENHA ERRADA, TENTATIVA\",X,'DE 3')\n",
        "  if quantidade_informada == 3:\n",
        "    break"
      ],
      "metadata": {
        "colab": {
          "base_uri": "https://localhost:8080/"
        },
        "id": "F2CifvC_QyUI",
        "outputId": "8e159788-62b3-4d43-e409-045ac79f825d"
      },
      "execution_count": null,
      "outputs": [
        {
          "output_type": "stream",
          "name": "stdout",
          "text": [
            "Digite a senha: 5433\n",
            "SENHA ERRADA, TENTATIVA 1 DE 3\n",
            "Digite a senha: 65454\n",
            "SENHA ERRADA, TENTATIVA 2 DE 3\n",
            "Digite a senha: 1234\n",
            "ACESSO PERMITIDO\n",
            "3 Tentativa(s)\n"
          ]
        }
      ]
    }
  ],
  "metadata": {
    "colab": {
      "provenance": [],
      "authorship_tag": "ABX9TyN3rbGt3YOPVyInJoUyn7gP",
      "include_colab_link": true
    },
    "kernelspec": {
      "display_name": "Python 3",
      "name": "python3"
    },
    "language_info": {
      "name": "python"
    }
  },
  "nbformat": 4,
  "nbformat_minor": 0
}