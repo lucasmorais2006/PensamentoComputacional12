{
  "nbformat": 4,
  "nbformat_minor": 0,
  "metadata": {
    "colab": {
      "provenance": [],
      "authorship_tag": "ABX9TyNfqwpQCBVspi671So89F/k"
    },
    "kernelspec": {
      "name": "python3",
      "display_name": "Python 3"
    },
    "language_info": {
      "name": "python"
    }
  },
  "cells": [
    {
      "cell_type": "markdown",
      "source": [
        "Sistema para cadastro e avaliações de Filmes\n",
        "\n",
        "Até 1000 filmes\n",
        "Notas de 0.0 até 10.0"
      ],
      "metadata": {
        "id": "TimYbGYCBzTB"
      }
    },
    {
      "cell_type": "code",
      "execution_count": null,
      "metadata": {
        "colab": {
          "base_uri": "https://localhost:8080/"
        },
        "id": "RFBxQPLc_17G",
        "outputId": "7aa12ffe-bf84-4df5-e3b3-e2efaf59f069"
      },
      "outputs": [
        {
          "output_type": "stream",
          "name": "stdout",
          "text": [
            "Festival de Cinema Pessoal\n",
            "\n",
            "Digite o nome do filme: Cidade de Deus\n",
            "Digite a nota para 'Cidade de Deus' de 0.0 a 10.0: 10\n",
            "Deseja cadastrar outro filme? (s/n): n\n",
            "\n",
            " Lista de Filmes Cadastrados:\n",
            "1. Cidade de Deus - Nota: 10.0\n",
            "\n",
            " Nota média dos filmes: 10.00\n"
          ]
        }
      ],
      "source": [
        "\n",
        "filmes = []\n",
        "notas = []\n",
        "\n",
        "MAXIMO_FILMES = 1000 #Definir limite de 1000 filmes\n",
        "\n",
        "print(\"Festival de Cinema Pessoal\\n\") #Enunciado!\n",
        "\n",
        "while len(filmes) < MAXIMO_FILMES: #len como contador\n",
        "    nome = input(\"Digite o nome do filme: \")\n",
        "\n",
        "    # Verifica se o filme já foi cadastrado\n",
        "    if nome in filmes:\n",
        "        print(\"Este filme já foi cadastrado. Tente outro.\")\n",
        "        continue # continuar o código após a mensagem\n",
        "\n",
        "    # Solicita a nota do filme\n",
        "    while True:\n",
        "        try: #TRY para começar o código e prevenir erros.\n",
        "            nota = float(input(f\"Digite a nota para '{nome}' de 0.0 a 10.0: \"))\n",
        "            if 0.0 <= nota <= 10.0:\n",
        "                break #Quebra o código caso a nota esteja correta, pula para a etapa de adiconar as listas.\n",
        "            else: #Caso a nota não esteja entre 0 e 10\n",
        "                print(\" A nota deve estar entre 0.0 e 10.0.\")\n",
        "        except ValueError: #Caso o usuário digite uma string ou algo diferente de float(ValueError) e o EXCEPT fecha o TRY no começo do código.\n",
        "            print(\"Entrada inválida. Digite um número entre 0.0 e 10.0.\")\n",
        "\n",
        "    #Se passar por todas as verificações acima, o filme e a nota é adicionado a lista\n",
        "    filmes.append(nome)\n",
        "    notas.append(nota)\n",
        "\n",
        "\n",
        "    continuar = input(\"Deseja cadastrar outro filme? (s/n): \")\n",
        "    if continuar != 's' and continuar != 'S':\n",
        "        break #Quebrar código (parar) se o usuário não responder 'S'.\n",
        "\n",
        "# Resultados\n",
        "print(\"\\n Lista de Filmes Cadastrados:\")\n",
        "for x, filme in enumerate(filmes): #enumerate para retornar a lista em ordem e sem se perder nos nomes e notas.\n",
        "    print(f\"{x+1}. {filme} - Nota: {notas[x]}\") # o x auxilia o enumerate como contador para manter a ordem\n",
        "\n",
        "# Calcula e exibe a média\n",
        "if notas:\n",
        "    media = sum(notas) / len(notas) #len para fazer a contagem dentro de notas (contador)\n",
        "    print(f\"\\n Nota média dos filmes: {media:.2f}\") #.2f serve para exibir apenas duas casas decimais, para ficar visualmente mais bonito\n",
        "else:\n",
        "    print(\"\\nNenhum filme foi cadastrado.\")\n"
      ]
    }
  ]
}