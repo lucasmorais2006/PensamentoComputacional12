{
  "cells": [
    {
      "cell_type": "markdown",
      "metadata": {
        "colab_type": "text",
        "id": "view-in-github"
      },
      "source": [
        "<a href=\"https://colab.research.google.com/github/lucasmorais2006/Exerc-cios-da-Discipina-de-Pensamento-Computacional/blob/main/3_EXERCICIOS_07_04.ipynb\" target=\"_parent\"><img src=\"https://colab.research.google.com/assets/colab-badge.svg\" alt=\"Open In Colab\"/></a>"
      ]
    },
    {
      "cell_type": "markdown",
      "metadata": {
        "id": "nXBLbJ6xs1eS"
      },
      "source": [
        "1. Faça um algoritmo em Python para ler dois valores numéricos e apresentar a diferença do maior\n",
        "pelo menor."
      ]
    },
    {
      "cell_type": "code",
      "execution_count": null,
      "metadata": {
        "colab": {
          "base_uri": "https://localhost:8080/"
        },
        "id": "n-muNzdCsTj9",
        "outputId": "5cb8a960-b7ff-4242-8413-89b4fa325247"
      },
      "outputs": [
        {
          "name": "stdout",
          "output_type": "stream",
          "text": [
            "Informe o primeiro valor: 5\n",
            "Informe o segundo valor: 3\n",
            "2\n"
          ]
        }
      ],
      "source": [
        "#vars\n",
        "n1 = 0\n",
        "n2 = 0\n",
        "\n",
        "#inicio\n",
        "n1 = int(input (\"Informe o primeiro valor: \"))\n",
        "n2 = int(input (\"Informe o segundo valor: \"))\n",
        "if n2 > n1:\n",
        "  print (n2 - n1)\n",
        "else:\n",
        "  print (n1 - n2)"
      ]
    },
    {
      "cell_type": "markdown",
      "metadata": {
        "id": "BIBrUjocx3Or"
      },
      "source": [
        "2. Faça um algoritmo em Python para ler dois números. Se os números forem iguais escrever a\n",
        "mensagem: \"NÚMEROS IGUAIS\" e encerrar a execução; caso contrário, escrever o de maior\n",
        "valor."
      ]
    },
    {
      "cell_type": "code",
      "execution_count": null,
      "metadata": {
        "colab": {
          "base_uri": "https://localhost:8080/"
        },
        "id": "mgpyp8RKyDsV",
        "outputId": "a6c67e1c-bf26-4554-aaa1-72ae7936229b"
      },
      "outputs": [
        {
          "name": "stdout",
          "output_type": "stream",
          "text": [
            "Informe o primeiro valor: 4\n",
            "Informe o segundo valor: 2\n",
            "4 é o maior valor\n"
          ]
        }
      ],
      "source": [
        "n1 = int(input (\"Informe o primeiro valor: \"))\n",
        "n2 = int(input (\"Informe o segundo valor: \"))\n",
        "if n1 == n2:\n",
        "  print (\"Números iguais\")\n",
        "else:\n",
        "  if n1 > n2:\n",
        "    print (n1, \"é o maior valor\")\n",
        "  else:\n",
        "    print (n2, \"é o maior valor\")"
      ]
    },
    {
      "cell_type": "markdown",
      "metadata": {
        "id": "h2m6WROmzLWL"
      },
      "source": [
        "3. Faça um algoritmo em Python para ler dois valores: NUM1 e NUM2, e se NUM1 for maior que\n",
        "NUM2 executa a soma de NUM1 e NUM2; caso contrário, executa uma subtração."
      ]
    },
    {
      "cell_type": "code",
      "execution_count": null,
      "metadata": {
        "colab": {
          "base_uri": "https://localhost:8080/"
        },
        "id": "BFSWrlO7zJTL",
        "outputId": "694e1cce-2e0a-42e4-bd4f-91e2a2eb7e58"
      },
      "outputs": [
        {
          "name": "stdout",
          "output_type": "stream",
          "text": [
            "Informe o primeiro valor: 4\n",
            "Informe o segundo valor: 7\n",
            "-3\n"
          ]
        }
      ],
      "source": [
        "n1 = int(input (\"Informe o primeiro valor: \"))\n",
        "n2 = int(input (\"Informe o segundo valor: \"))\n",
        "if n1 > n2:\n",
        "  print (n1 + n2)\n",
        "else:\n",
        "  print (n1 - n2)\n"
      ]
    },
    {
      "cell_type": "markdown",
      "metadata": {
        "id": "hnUmtRGTzbZ7"
      },
      "source": [
        "O hotel Pica-Pau cobra R$ 150,00 a diária e mais uma taxa de serviços. A taxa de serviços é de:\n",
        "\n",
        "15 reais por dia, se número de diárias menor que 15.\n",
        "10 reais por dia, se número de diárias igual a 15.\n",
        "5 reais por dia, se número de diárias menor que 15.\n",
        "\n",
        "Faça um algoritmo em Python que lê o número de diárias e calcula o total a ser pago pelo cliente."
      ]
    },
    {
      "cell_type": "code",
      "execution_count": null,
      "metadata": {
        "colab": {
          "base_uri": "https://localhost:8080/"
        },
        "id": "cVoWaZUrzedD",
        "outputId": "bd6bb02f-f3e3-4910-8de4-674352a4579c"
      },
      "outputs": [
        {
          "name": "stdout",
          "output_type": "stream",
          "text": [
            "Informe quantos dias durou a hospedagem: 30\n",
            "O valor total a ser pago será de : 155.0\n"
          ]
        }
      ],
      "source": [
        "#vars\n",
        "diaria = 150.00\n",
        "taxa = 0.0\n",
        "dias = 0\n",
        "# inicio\n",
        "dias = int(input('Informe quantos dias durou a hospedagem: '))\n",
        "if dias < 15:\n",
        "  taxa = 15\n",
        "else:\n",
        "  if dias == 15:\n",
        "    taxa = 10\n",
        "  else:\n",
        "    taxa = 5\n",
        "print ('O valor total a ser pago será de :' ,diaria + taxa)"
      ]
    },
    {
      "cell_type": "markdown",
      "metadata": {
        "id": "O0lePH5013Rt"
      },
      "source": [
        "Escrever um programa em Python que lê as 3 notas obtidas por ele em provas. Para\n",
        "cada aluno, calcular a média de aproveitamento, usando a fórmula:\n",
        "\n",
        "MA = (Nl + N2 + N3)\n",
        "3\n",
        "\n",
        "A atribuição de conceitos obedece à tabela abaixo:\n",
        "Média de Aproveitamento Conceito\n",
        ">= 9.0 A\n",
        ">= 7.5 e < 9.0 B\n",
        ">= 6.0 e < 7.5 C\n",
        ">= 4.0 e < 6.0 D\n",
        "< 4.0 E\n",
        "\n",
        "O programa deve escrever as notas, a média de aproveitamento, o conceito\n",
        "correspondente e a mensagem: \"APROVADO\" se o conceito for A, B, ou C e\n",
        "\"REPROVADO\" se conceito for D ou E."
      ]
    },
    {
      "cell_type": "code",
      "execution_count": null,
      "metadata": {
        "colab": {
          "base_uri": "https://localhost:8080/"
        },
        "id": "wnQhZSif15Y8",
        "outputId": "710f168a-55ac-4ea9-c3e3-648c804f3785"
      },
      "outputs": [
        {
          "name": "stdout",
          "output_type": "stream",
          "text": [
            "Informe o nome do aluno: Lucas\n",
            "Informe a primeira nota: 6\n",
            "Informe a segunda nota: 8\n",
            "Informe a terceira nota: 9\n",
            "6.0 , 8.0 , 9.0 A nota final é: 7.67 Conceito: B. O Lucas está APROVADO\n"
          ]
        }
      ],
      "source": [
        "#vars\n",
        "ma = 0\n",
        "n1 = 0\n",
        "n2 = 0\n",
        "n3 = 0\n",
        "aluno = input('Informe o nome do aluno: ')\n",
        "#inicio\n",
        "n1 = float(input('Informe a primeira nota: '))\n",
        "n2 = float(input('Informe a segunda nota: '))\n",
        "n3 = float(input('Informe a terceira nota: '))\n",
        "ma = (n1 + n2 + n3) / 3\n",
        "if ma >= 9.0:\n",
        "  print (n1,',',n2,',',n3,'A nota final é:' ,round(ma, 2), 'Conceito: A. O',aluno,'está APROVADO')\n",
        "else:\n",
        "  if ma >= 7.5 and ma < 9.0:\n",
        "    print (n1,',',n2,',',n3,'A nota final é:' ,round(ma, 2), 'Conceito: B. O',aluno,'está APROVADO')\n",
        "  else:\n",
        "    if ma >= 6.0 and ma < 7.5:\n",
        "      print (n1,',',n2,',',n3,'A nota final é:' ,round(ma, 2), 'Conceito: C. O',aluno,'está APROVADO')\n",
        "    else:\n",
        "        if ma >= 4.0 and ma < 6.0:\n",
        "          print (n1,',',n2,',',n3,'A nota final é:' ,round(ma, 2), 'Conceito: D. O',aluno,'está REPROVADO')\n",
        "        else:\n",
        "            if ma < 4.0:\n",
        "              print (n1,',',n2,',',n3,'A nota final é:' ,round(ma, 2), 'Conceito: E. O',aluno,'está REPROVADO')"
      ]
    },
    {
      "cell_type": "markdown",
      "metadata": {
        "id": "-KQBYfCv5C3u"
      },
      "source": [
        "6. Faça um programa em Python que leia a altura e o sexo de uma pessoa, calcule seu\n",
        "peso ideal, utilizando as seguintes fórmulas:\n",
        "● homens : (72,7*altura) –58\n",
        "● mulheres : (62,1*altura) – 44,7"
      ]
    },
    {
      "cell_type": "code",
      "execution_count": null,
      "metadata": {
        "colab": {
          "base_uri": "https://localhost:8080/"
        },
        "id": "wR28j55U5FxW",
        "outputId": "804eb24a-0a95-4967-905b-f92fd41864a2"
      },
      "outputs": [
        {
          "name": "stdout",
          "output_type": "stream",
          "text": [
            "Informe sua altura: 1.75\n",
            "Informe ser sexo (M/F)f\n",
            "Seu peso ideal é:  63.97\n"
          ]
        }
      ],
      "source": [
        "peso_ideal = 0\n",
        "altura = float(input('Informe sua altura: '))\n",
        "sexo = input ('Informe ser sexo (M/F)')\n",
        "#calculos\n",
        "if sexo == 'M' or sexo == 'm':\n",
        "  peso_ideal = (72.7 * altura) - 58\n",
        "else:\n",
        "  peso_ideal = (62.1 * altura) - 44.7\n",
        "print ('Seu peso ideal é: ',round(peso_ideal, 2))"
      ]
    },
    {
      "cell_type": "code",
      "execution_count": null,
      "metadata": {
        "colab": {
          "base_uri": "https://localhost:8080/"
        },
        "id": "tboJ_5_GkaEr",
        "outputId": "7af82209-6552-4671-aa83-39fecdeea329"
      },
      "outputs": [
        {
          "name": "stdout",
          "output_type": "stream",
          "text": [
            "1 x 9 = 9\n",
            "2 x 9 = 18\n",
            "3 x 9 = 27\n",
            "4 x 9 = 36\n",
            "5 x 9 = 45\n",
            "6 x 9 = 54\n",
            "7 x 9 = 63\n",
            "8 x 9 = 72\n",
            "9 x 9 = 81\n",
            "10 x 9 = 90\n"
          ]
        }
      ],
      "source": [
        "'''\n",
        "1. Transcreva o algoritmo a seguir para Python:\n",
        "ALGORITMO TABUADA_9;\n",
        "VAR\n",
        "N, X, R : INTEIRO;\n",
        "INICIO\n",
        "PARA X DE 1 ATE 10 FACA\n",
        "INICIO\n",
        "R ← 9 * X;\n",
        "ESCREVER ( X, ‘ x 9 = ’, R);\n",
        "FIM;\n",
        "FIM_PARA;\n",
        "FIM.\n",
        "'''\n",
        "\n",
        "# variaveis\n",
        "N = 0\n",
        "X = 0\n",
        "R = 0\n",
        "\n",
        "#calculos\n",
        "\n",
        "for X in range (1, 11):\n",
        "  R = 9 * X\n",
        "  print(X, \"x 9 =\", R)"
      ]
    },
    {
      "cell_type": "markdown",
      "metadata": {
        "id": "Fi2yedqbnVxm"
      },
      "source": [
        "2. Faça um programa em Python que mostre todos os números inteiros ímpares situados na faixa\n",
        "de 1000 a 1500."
      ]
    },
    {
      "cell_type": "code",
      "execution_count": null,
      "metadata": {
        "colab": {
          "base_uri": "https://localhost:8080/"
        },
        "id": "rsaY2eEhnYlm",
        "outputId": "24073469-0f17-450c-b651-a10fa92f48c4"
      },
      "outputs": [
        {
          "name": "stdout",
          "output_type": "stream",
          "text": [
            "1001\n",
            "1003\n",
            "1005\n",
            "1007\n",
            "1009\n",
            "1011\n",
            "1013\n",
            "1015\n",
            "1017\n",
            "1019\n",
            "1021\n",
            "1023\n",
            "1025\n",
            "1027\n",
            "1029\n",
            "1031\n",
            "1033\n",
            "1035\n",
            "1037\n",
            "1039\n",
            "1041\n",
            "1043\n",
            "1045\n",
            "1047\n",
            "1049\n",
            "1051\n",
            "1053\n",
            "1055\n",
            "1057\n",
            "1059\n",
            "1061\n",
            "1063\n",
            "1065\n",
            "1067\n",
            "1069\n",
            "1071\n",
            "1073\n",
            "1075\n",
            "1077\n",
            "1079\n",
            "1081\n",
            "1083\n",
            "1085\n",
            "1087\n",
            "1089\n",
            "1091\n",
            "1093\n",
            "1095\n",
            "1097\n",
            "1099\n",
            "1101\n",
            "1103\n",
            "1105\n",
            "1107\n",
            "1109\n",
            "1111\n",
            "1113\n",
            "1115\n",
            "1117\n",
            "1119\n",
            "1121\n",
            "1123\n",
            "1125\n",
            "1127\n",
            "1129\n",
            "1131\n",
            "1133\n",
            "1135\n",
            "1137\n",
            "1139\n",
            "1141\n",
            "1143\n",
            "1145\n",
            "1147\n",
            "1149\n",
            "1151\n",
            "1153\n",
            "1155\n",
            "1157\n",
            "1159\n",
            "1161\n",
            "1163\n",
            "1165\n",
            "1167\n",
            "1169\n",
            "1171\n",
            "1173\n",
            "1175\n",
            "1177\n",
            "1179\n",
            "1181\n",
            "1183\n",
            "1185\n",
            "1187\n",
            "1189\n",
            "1191\n",
            "1193\n",
            "1195\n",
            "1197\n",
            "1199\n",
            "1201\n",
            "1203\n",
            "1205\n",
            "1207\n",
            "1209\n",
            "1211\n",
            "1213\n",
            "1215\n",
            "1217\n",
            "1219\n",
            "1221\n",
            "1223\n",
            "1225\n",
            "1227\n",
            "1229\n",
            "1231\n",
            "1233\n",
            "1235\n",
            "1237\n",
            "1239\n",
            "1241\n",
            "1243\n",
            "1245\n",
            "1247\n",
            "1249\n",
            "1251\n",
            "1253\n",
            "1255\n",
            "1257\n",
            "1259\n",
            "1261\n",
            "1263\n",
            "1265\n",
            "1267\n",
            "1269\n",
            "1271\n",
            "1273\n",
            "1275\n",
            "1277\n",
            "1279\n",
            "1281\n",
            "1283\n",
            "1285\n",
            "1287\n",
            "1289\n",
            "1291\n",
            "1293\n",
            "1295\n",
            "1297\n",
            "1299\n",
            "1301\n",
            "1303\n",
            "1305\n",
            "1307\n",
            "1309\n",
            "1311\n",
            "1313\n",
            "1315\n",
            "1317\n",
            "1319\n",
            "1321\n",
            "1323\n",
            "1325\n",
            "1327\n",
            "1329\n",
            "1331\n",
            "1333\n",
            "1335\n",
            "1337\n",
            "1339\n",
            "1341\n",
            "1343\n",
            "1345\n",
            "1347\n",
            "1349\n",
            "1351\n",
            "1353\n",
            "1355\n",
            "1357\n",
            "1359\n",
            "1361\n",
            "1363\n",
            "1365\n",
            "1367\n",
            "1369\n",
            "1371\n",
            "1373\n",
            "1375\n",
            "1377\n",
            "1379\n",
            "1381\n",
            "1383\n",
            "1385\n",
            "1387\n",
            "1389\n",
            "1391\n",
            "1393\n",
            "1395\n",
            "1397\n",
            "1399\n",
            "1401\n",
            "1403\n",
            "1405\n",
            "1407\n",
            "1409\n",
            "1411\n",
            "1413\n",
            "1415\n",
            "1417\n",
            "1419\n",
            "1421\n",
            "1423\n",
            "1425\n",
            "1427\n",
            "1429\n",
            "1431\n",
            "1433\n",
            "1435\n",
            "1437\n",
            "1439\n",
            "1441\n",
            "1443\n",
            "1445\n",
            "1447\n",
            "1449\n",
            "1451\n",
            "1453\n",
            "1455\n",
            "1457\n",
            "1459\n",
            "1461\n",
            "1463\n",
            "1465\n",
            "1467\n",
            "1469\n",
            "1471\n",
            "1473\n",
            "1475\n",
            "1477\n",
            "1479\n",
            "1481\n",
            "1483\n",
            "1485\n",
            "1487\n",
            "1489\n",
            "1491\n",
            "1493\n",
            "1495\n",
            "1497\n",
            "1499\n"
          ]
        }
      ],
      "source": [
        "for x in range (1000, 1501):\n",
        "  if x % 2 != 0 :\n",
        "    print(x)"
      ]
    },
    {
      "cell_type": "markdown",
      "metadata": {
        "id": "uLoByfo5olzF"
      },
      "source": [
        "3. Elabore um programa em Python que calcule e escreva a soma de 10 números lidos."
      ]
    },
    {
      "cell_type": "code",
      "execution_count": null,
      "metadata": {
        "colab": {
          "base_uri": "https://localhost:8080/"
        },
        "id": "GiRS-Pm-osAl",
        "outputId": "d3e2f79f-02af-4950-baf1-6b74f8ce2038"
      },
      "outputs": [
        {
          "name": "stdout",
          "output_type": "stream",
          "text": [
            "Informe um número: 10\n",
            "Informe um número: 10\n",
            "Informe um número: 10\n",
            "Informe um número: 10\n",
            "Informe um número: 10\n",
            "Informe um número: 10\n",
            "Informe um número: 10\n",
            "Informe um número: 10\n",
            "Informe um número: 10\n",
            "Informe um número: 10\n",
            "A soma dos números é:  100.0\n"
          ]
        }
      ],
      "source": [
        "soma = 0\n",
        "x = 0\n",
        "while x <10:\n",
        "  numero = float(input('Informe um número: '))\n",
        "  soma = soma + numero\n",
        "  x = x + 1\n",
        "print('A soma dos números é: ',soma)"
      ]
    },
    {
      "cell_type": "markdown",
      "metadata": {
        "id": "1icfyYEasNCO"
      },
      "source": [
        "4. Faça um programa em Python que leia a nota de 10 alunos de uma turma. Ao final, deve ser\n",
        "escrita a média geral da turma."
      ]
    },
    {
      "cell_type": "code",
      "execution_count": null,
      "metadata": {
        "colab": {
          "base_uri": "https://localhost:8080/"
        },
        "id": "2M6YtB0UsQTl",
        "outputId": "ebe5ec15-5cc4-4caf-9b6b-e45799bdbd61"
      },
      "outputs": [
        {
          "name": "stdout",
          "output_type": "stream",
          "text": [
            "Informe a nota do aluno: 3\n",
            "Informe a nota do aluno: 6\n",
            "Informe a nota do aluno: 8\n",
            "Informe a nota do aluno: 9\n",
            "Informe a nota do aluno: 8.5\n",
            "Informe a nota do aluno: 6.7\n",
            "Informe a nota do aluno: 4.6\n",
            "Informe a nota do aluno: 8.7\n",
            "Informe a nota do aluno: 4.8\n",
            "Informe a nota do aluno: 7.9\n",
            "A média geral da turma é:  6.72\n"
          ]
        }
      ],
      "source": [
        "media_geral = 0\n",
        "x = 0\n",
        "notas = 0\n",
        "while x < 10:\n",
        "  notas = float(input('Informe a nota do aluno: '))\n",
        "  media_geral = media_geral + notas\n",
        "  x = x + 1\n",
        "print('A média geral da turma é: ',round(media_geral/10, 2))"
      ]
    },
    {
      "cell_type": "markdown",
      "metadata": {
        "id": "lXAzphe-tEj2"
      },
      "source": [
        "5. Faça um programa em Python que leia 5 números. Para cada número fornecido, escreva se\n",
        "ele é NULO, NEGATIVO ou POSITIVO."
      ]
    },
    {
      "cell_type": "code",
      "execution_count": null,
      "metadata": {
        "colab": {
          "base_uri": "https://localhost:8080/"
        },
        "id": "Z8BhyDxUtHqe",
        "outputId": "1877dbfa-5378-4e9e-ff9c-945955257be6"
      },
      "outputs": [
        {
          "name": "stdout",
          "output_type": "stream",
          "text": [
            "Informe um número: 3\n",
            "Positivo\n",
            "Informe um número: 4\n",
            "Positivo\n",
            "Informe um número: -3\n",
            "Negativo\n",
            "Informe um número: 0\n",
            "Nulo\n",
            "Informe um número: 2.4\n",
            "Positivo\n"
          ]
        }
      ],
      "source": [
        "x = 0\n",
        "n = 0\n",
        "while x < 5:\n",
        "  n = float(input('Informe um número: '))\n",
        "  x = x + 1\n",
        "  if n == 0:\n",
        "    print('Nulo')\n",
        "  else:\n",
        "    if n < 0:\n",
        "      print('Negativo')\n",
        "    else:\n",
        "      print('Positivo')"
      ]
    },
    {
      "cell_type": "markdown",
      "metadata": {
        "id": "-wrycJV3ur1G"
      },
      "source": [
        "6. Ler dois valores inteiros e escrever os números em sequência do menor até maior valor."
      ]
    },
    {
      "cell_type": "code",
      "execution_count": null,
      "metadata": {
        "colab": {
          "base_uri": "https://localhost:8080/"
        },
        "id": "-m0zAMbtutKm",
        "outputId": "a2b4afb9-8e7f-4cf2-b5fd-daf2be673a5e"
      },
      "outputs": [
        {
          "name": "stdout",
          "output_type": "stream",
          "text": [
            "Informe o primeiro número: 7\n",
            "Informe o segundo número: 4\n",
            "4 7\n"
          ]
        }
      ],
      "source": [
        "n1 = 0\n",
        "n2 = 0\n",
        "n1 = int(input('Informe o primeiro número: '))\n",
        "n2 = int(input('Informe o segundo número: '))\n",
        "if n1 < n2:\n",
        "  print(n1,n2)\n",
        "else:\n",
        "  print(n2,n1)"
      ]
    },
    {
      "cell_type": "markdown",
      "metadata": {
        "id": "Ehv_-Dl2vbDH"
      },
      "source": [
        "7. Faça um programa em Python que escreva os números pares entre 100 e 200."
      ]
    },
    {
      "cell_type": "code",
      "execution_count": null,
      "metadata": {
        "colab": {
          "base_uri": "https://localhost:8080/"
        },
        "id": "SgTNBM2qvc4X",
        "outputId": "a8ecc853-bdfd-4c3c-d2e5-9de0c90d1ae7"
      },
      "outputs": [
        {
          "name": "stdout",
          "output_type": "stream",
          "text": [
            "100\n",
            "102\n",
            "104\n",
            "106\n",
            "108\n",
            "110\n",
            "112\n",
            "114\n",
            "116\n",
            "118\n",
            "120\n",
            "122\n",
            "124\n",
            "126\n",
            "128\n",
            "130\n",
            "132\n",
            "134\n",
            "136\n",
            "138\n",
            "140\n",
            "142\n",
            "144\n",
            "146\n",
            "148\n",
            "150\n",
            "152\n",
            "154\n",
            "156\n",
            "158\n",
            "160\n",
            "162\n",
            "164\n",
            "166\n",
            "168\n",
            "170\n",
            "172\n",
            "174\n",
            "176\n",
            "178\n",
            "180\n",
            "182\n",
            "184\n",
            "186\n",
            "188\n",
            "190\n",
            "192\n",
            "194\n",
            "196\n",
            "198\n",
            "200\n"
          ]
        }
      ],
      "source": [
        "for x in range (100, 201):\n",
        "  if x % 2 == 0 :\n",
        "    print(x)"
      ]
    },
    {
      "cell_type": "markdown",
      "metadata": {
        "id": "U5Xj_lIFvv-4"
      },
      "source": [
        "8. Escrever um programa em Python que leia um valor para n, inteiro e positivo, e escreva a\n",
        "tabuada de n. Com os respectivos valores.\n",
        "\n",
        "n x 1 =\n",
        "n x 2 =\n",
        "...\n",
        "n x 10 ="
      ]
    },
    {
      "cell_type": "code",
      "execution_count": null,
      "metadata": {
        "colab": {
          "base_uri": "https://localhost:8080/"
        },
        "id": "IH6KF-ZVvycg",
        "outputId": "e7bdf633-e10c-4d75-aa21-12e5abb7d36b"
      },
      "outputs": [
        {
          "name": "stdout",
          "output_type": "stream",
          "text": [
            "Informe um número: 3\n",
            "3 x 1 = 3\n",
            "3 x 2 = 6\n",
            "3 x 3 = 9\n",
            "3 x 4 = 12\n",
            "3 x 5 = 15\n",
            "3 x 6 = 18\n",
            "3 x 7 = 21\n",
            "3 x 8 = 24\n",
            "3 x 9 = 27\n",
            "3 x 10 = 30\n"
          ]
        }
      ],
      "source": [
        "n = 0\n",
        "n = int(input('Informe um número: '))\n",
        "if n > 0:\n",
        "  for x in range (1, 11):\n",
        "    print(n, 'x', x, '=', n * x)\n",
        "else:\n",
        "  print('Número inválido')"
      ]
    },
    {
      "cell_type": "markdown",
      "metadata": {
        "id": "57PlOUoY00g3"
      },
      "source": [
        "9. Escrever um programa em Python que gera os números de 1000 a 1999 e escreve aqueles\n",
        "que divididos por 11 dão um resto igual a 5."
      ]
    },
    {
      "cell_type": "code",
      "execution_count": null,
      "metadata": {
        "colab": {
          "base_uri": "https://localhost:8080/"
        },
        "id": "PlFcN6ZT0259",
        "outputId": "68661dd1-3b0a-454f-c950-ddab84044b28"
      },
      "outputs": [
        {
          "name": "stdout",
          "output_type": "stream",
          "text": [
            "1006\n",
            "1017\n",
            "1028\n",
            "1039\n",
            "1050\n",
            "1061\n",
            "1072\n",
            "1083\n",
            "1094\n",
            "1105\n",
            "1116\n",
            "1127\n",
            "1138\n",
            "1149\n",
            "1160\n",
            "1171\n",
            "1182\n",
            "1193\n",
            "1204\n",
            "1215\n",
            "1226\n",
            "1237\n",
            "1248\n",
            "1259\n",
            "1270\n",
            "1281\n",
            "1292\n",
            "1303\n",
            "1314\n",
            "1325\n",
            "1336\n",
            "1347\n",
            "1358\n",
            "1369\n",
            "1380\n",
            "1391\n",
            "1402\n",
            "1413\n",
            "1424\n",
            "1435\n",
            "1446\n",
            "1457\n",
            "1468\n",
            "1479\n",
            "1490\n",
            "1501\n",
            "1512\n",
            "1523\n",
            "1534\n",
            "1545\n",
            "1556\n",
            "1567\n",
            "1578\n",
            "1589\n",
            "1600\n",
            "1611\n",
            "1622\n",
            "1633\n",
            "1644\n",
            "1655\n",
            "1666\n",
            "1677\n",
            "1688\n",
            "1699\n",
            "1710\n",
            "1721\n",
            "1732\n",
            "1743\n",
            "1754\n",
            "1765\n",
            "1776\n",
            "1787\n",
            "1798\n",
            "1809\n",
            "1820\n",
            "1831\n",
            "1842\n",
            "1853\n",
            "1864\n",
            "1875\n",
            "1886\n",
            "1897\n",
            "1908\n",
            "1919\n",
            "1930\n",
            "1941\n",
            "1952\n",
            "1963\n",
            "1974\n",
            "1985\n",
            "1996\n"
          ]
        }
      ],
      "source": [
        "for x in range (1000, 2000):\n",
        "  if x % 11 == 5:\n",
        "    print(x)"
      ]
    },
    {
      "cell_type": "markdown",
      "metadata": {
        "id": "mS49rPaI1dIO"
      },
      "source": [
        "10. Faça um programa em Python que leia um número qualquer (N), e realize a soma dos\n",
        "números de 1 até N. Ao final, deve-se escrever o resultado."
      ]
    },
    {
      "cell_type": "code",
      "execution_count": null,
      "metadata": {
        "colab": {
          "base_uri": "https://localhost:8080/"
        },
        "id": "VbysrsMr1fHW",
        "outputId": "52daed49-667a-4a7f-8f8b-66ac187df0da"
      },
      "outputs": [
        {
          "name": "stdout",
          "output_type": "stream",
          "text": [
            "Informe um número: 6\n",
            "7\n",
            "8\n",
            "9\n",
            "10\n",
            "11\n",
            "12\n"
          ]
        }
      ],
      "source": [
        "soma = 0\n",
        "n = 0\n",
        "x = 0\n",
        "n = int(input('Informe um número: '))\n",
        "for x in range (1, n+1):\n",
        "  if x <=6:\n",
        "    soma = x + n\n",
        "    print (soma)"
      ]
    },
    {
      "cell_type": "markdown",
      "metadata": {
        "id": "3gqs-czy4RSC"
      },
      "source": [
        "11. Faça um programa em Python para ler 10 valores inteiros. Para cada valor fornecido escreva\n",
        "uma mensagem que indica se cada valor fornecido é PAR ou ÍMPAR."
      ]
    },
    {
      "cell_type": "code",
      "execution_count": null,
      "metadata": {
        "colab": {
          "base_uri": "https://localhost:8080/"
        },
        "id": "NRXK8w_x4UFp",
        "outputId": "1bb574d8-7edd-43de-f651-2aeeefa899be"
      },
      "outputs": [
        {
          "name": "stdout",
          "output_type": "stream",
          "text": [
            "Informe um valor: 5\n",
            "Ímpar\n",
            "Informe um valor: 6\n",
            "Par\n",
            "Informe um valor: 7\n",
            "Ímpar\n",
            "Informe um valor: 2\n",
            "Par\n",
            "Informe um valor: 13\n",
            "Ímpar\n",
            "Informe um valor: 65\n",
            "Ímpar\n",
            "Informe um valor: 6\n",
            "Par\n",
            "Informe um valor: 4\n",
            "Par\n",
            "Informe um valor: 7\n",
            "Ímpar\n",
            "Informe um valor: 1\n",
            "Ímpar\n"
          ]
        }
      ],
      "source": [
        "x = 0\n",
        "valor = 0\n",
        "while x < 10:\n",
        "  valor = int(input('Informe um valor: '))\n",
        "  x = x + 1\n",
        "  if valor % 2 == 0:\n",
        "    print('Par')\n",
        "  else:\n",
        "    print('Ímpar')"
      ]
    },
    {
      "cell_type": "markdown",
      "metadata": {
        "id": "oyIVxNvs42IV"
      },
      "source": [
        "12. Faça um programa em Python que leia a idade de 10 alunos, calcule e escreva a média de\n",
        "idade destes."
      ]
    },
    {
      "cell_type": "code",
      "execution_count": null,
      "metadata": {
        "colab": {
          "base_uri": "https://localhost:8080/"
        },
        "id": "IM2E2VNJ433J",
        "outputId": "30f82ae9-d407-4218-947a-927dd5cc90f8"
      },
      "outputs": [
        {
          "name": "stdout",
          "output_type": "stream",
          "text": [
            "Informe a idade: 1\n",
            "Informe a idade: 2\n",
            "Informe a idade: 3\n",
            "Informe a idade: 4\n",
            "Informe a idade: 5\n",
            "Informe a idade: 6\n",
            "Informe a idade: 7\n",
            "Informe a idade: 8\n",
            "Informe a idade: 9\n",
            "Informe a idade: 10\n",
            "A média de idade é:  5.5\n"
          ]
        }
      ],
      "source": [
        "x = 0\n",
        "idades = 0\n",
        "media_geral = 0\n",
        "while x < 10:\n",
        "  idades = int(input('Informe a idade: '))\n",
        "  media_geral = media_geral + idades\n",
        "  x = x + 1\n",
        "print('A média de idade é: ',round(media_geral/10, 2))"
      ]
    },
    {
      "cell_type": "markdown",
      "metadata": {
        "id": "ACrjkqyh6k77"
      },
      "source": [
        "13. Escrever um programa em Python que lê 10 valores para n, um de cada vez, todos inteiros e\n",
        "positivos, e para cada n lido, escreva a tabuada de 1 até n de n.\n",
        "\n",
        "1 x n = n\n",
        "2 x n = 2n\n",
        "...\n",
        "n x n = n"
      ]
    },
    {
      "cell_type": "code",
      "execution_count": null,
      "metadata": {
        "colab": {
          "base_uri": "https://localhost:8080/",
          "height": 582
        },
        "id": "cdZNzntj6npD",
        "outputId": "68cf1474-ab90-434c-adff-01aa0f27dcf5"
      },
      "outputs": [
        {
          "name": "stdout",
          "output_type": "stream",
          "text": [
            "Informe um valor: 4\n",
            "1 x 1 = 1\n",
            "1 x 2 = 2\n",
            "1 x 3 = 3\n",
            "1 x 4 = 4\n",
            "Informe um valor: 7\n",
            "1 x 1 = 1\n",
            "1 x 2 = 2\n",
            "1 x 3 = 3\n",
            "1 x 4 = 4\n",
            "1 x 5 = 5\n",
            "1 x 6 = 6\n",
            "1 x 7 = 7\n"
          ]
        },
        {
          "ename": "KeyboardInterrupt",
          "evalue": "Interrupted by user",
          "output_type": "error",
          "traceback": [
            "\u001b[0;31m---------------------------------------------------------------------------\u001b[0m",
            "\u001b[0;31mKeyboardInterrupt\u001b[0m                         Traceback (most recent call last)",
            "\u001b[0;32m<ipython-input-92-bb5f93fcfaed>\u001b[0m in \u001b[0;36m<cell line: 0>\u001b[0;34m()\u001b[0m\n\u001b[1;32m      3\u001b[0m \u001b[0mfixo\u001b[0m \u001b[0;34m=\u001b[0m \u001b[0;36m1\u001b[0m\u001b[0;34m\u001b[0m\u001b[0;34m\u001b[0m\u001b[0m\n\u001b[1;32m      4\u001b[0m \u001b[0;32mwhile\u001b[0m \u001b[0mx\u001b[0m \u001b[0;34m<\u001b[0m \u001b[0;36m10\u001b[0m\u001b[0;34m:\u001b[0m\u001b[0;34m\u001b[0m\u001b[0;34m\u001b[0m\u001b[0m\n\u001b[0;32m----> 5\u001b[0;31m   \u001b[0mn\u001b[0m \u001b[0;34m=\u001b[0m \u001b[0mint\u001b[0m\u001b[0;34m(\u001b[0m\u001b[0minput\u001b[0m\u001b[0;34m(\u001b[0m\u001b[0;34m'Informe um valor: '\u001b[0m\u001b[0;34m)\u001b[0m\u001b[0;34m)\u001b[0m\u001b[0;34m\u001b[0m\u001b[0;34m\u001b[0m\u001b[0m\n\u001b[0m\u001b[1;32m      6\u001b[0m   \u001b[0mx\u001b[0m \u001b[0;34m=\u001b[0m \u001b[0mx\u001b[0m \u001b[0;34m+\u001b[0m \u001b[0;36m1\u001b[0m\u001b[0;34m\u001b[0m\u001b[0;34m\u001b[0m\u001b[0m\n\u001b[1;32m      7\u001b[0m   \u001b[0;32mif\u001b[0m \u001b[0mn\u001b[0m \u001b[0;34m>\u001b[0m \u001b[0;36m0\u001b[0m\u001b[0;34m:\u001b[0m\u001b[0;34m\u001b[0m\u001b[0;34m\u001b[0m\u001b[0m\n",
            "\u001b[0;32m/usr/local/lib/python3.11/dist-packages/ipykernel/kernelbase.py\u001b[0m in \u001b[0;36mraw_input\u001b[0;34m(self, prompt)\u001b[0m\n\u001b[1;32m   1175\u001b[0m                 \u001b[0;34m\"raw_input was called, but this frontend does not support input requests.\"\u001b[0m\u001b[0;34m\u001b[0m\u001b[0;34m\u001b[0m\u001b[0m\n\u001b[1;32m   1176\u001b[0m             )\n\u001b[0;32m-> 1177\u001b[0;31m         return self._input_request(\n\u001b[0m\u001b[1;32m   1178\u001b[0m             \u001b[0mstr\u001b[0m\u001b[0;34m(\u001b[0m\u001b[0mprompt\u001b[0m\u001b[0;34m)\u001b[0m\u001b[0;34m,\u001b[0m\u001b[0;34m\u001b[0m\u001b[0;34m\u001b[0m\u001b[0m\n\u001b[1;32m   1179\u001b[0m             \u001b[0mself\u001b[0m\u001b[0;34m.\u001b[0m\u001b[0m_parent_ident\u001b[0m\u001b[0;34m[\u001b[0m\u001b[0;34m\"shell\"\u001b[0m\u001b[0;34m]\u001b[0m\u001b[0;34m,\u001b[0m\u001b[0;34m\u001b[0m\u001b[0;34m\u001b[0m\u001b[0m\n",
            "\u001b[0;32m/usr/local/lib/python3.11/dist-packages/ipykernel/kernelbase.py\u001b[0m in \u001b[0;36m_input_request\u001b[0;34m(self, prompt, ident, parent, password)\u001b[0m\n\u001b[1;32m   1217\u001b[0m             \u001b[0;32mexcept\u001b[0m \u001b[0mKeyboardInterrupt\u001b[0m\u001b[0;34m:\u001b[0m\u001b[0;34m\u001b[0m\u001b[0;34m\u001b[0m\u001b[0m\n\u001b[1;32m   1218\u001b[0m                 \u001b[0;31m# re-raise KeyboardInterrupt, to truncate traceback\u001b[0m\u001b[0;34m\u001b[0m\u001b[0;34m\u001b[0m\u001b[0m\n\u001b[0;32m-> 1219\u001b[0;31m                 \u001b[0;32mraise\u001b[0m \u001b[0mKeyboardInterrupt\u001b[0m\u001b[0;34m(\u001b[0m\u001b[0;34m\"Interrupted by user\"\u001b[0m\u001b[0;34m)\u001b[0m \u001b[0;32mfrom\u001b[0m \u001b[0;32mNone\u001b[0m\u001b[0;34m\u001b[0m\u001b[0;34m\u001b[0m\u001b[0m\n\u001b[0m\u001b[1;32m   1220\u001b[0m             \u001b[0;32mexcept\u001b[0m \u001b[0mException\u001b[0m\u001b[0;34m:\u001b[0m\u001b[0;34m\u001b[0m\u001b[0;34m\u001b[0m\u001b[0m\n\u001b[1;32m   1221\u001b[0m                 \u001b[0mself\u001b[0m\u001b[0;34m.\u001b[0m\u001b[0mlog\u001b[0m\u001b[0;34m.\u001b[0m\u001b[0mwarning\u001b[0m\u001b[0;34m(\u001b[0m\u001b[0;34m\"Invalid Message:\"\u001b[0m\u001b[0;34m,\u001b[0m \u001b[0mexc_info\u001b[0m\u001b[0;34m=\u001b[0m\u001b[0;32mTrue\u001b[0m\u001b[0;34m)\u001b[0m\u001b[0;34m\u001b[0m\u001b[0;34m\u001b[0m\u001b[0m\n",
            "\u001b[0;31mKeyboardInterrupt\u001b[0m: Interrupted by user"
          ]
        }
      ],
      "source": [
        "x = 0\n",
        "n = 0\n",
        "fixo = 1\n",
        "while x < 10:\n",
        "  n = int(input('Informe um valor: '))\n",
        "  x = x + 1\n",
        "  if n > 0:\n",
        "    for n in range (1, n+1):\n",
        "      print(fixo, 'x', n, '=', fixo * n)\n",
        "  else:\n",
        "    print('Número inválido')"
      ]
    },
    {
      "cell_type": "markdown",
      "metadata": {
        "id": "D4iC5gTn93P8"
      },
      "source": [
        "15. Escreva um programa que lê um número inteiro N do usuário. O programa deverá escrever na tela o fatorial desse número (N!)"
      ]
    },
    {
      "cell_type": "code",
      "execution_count": null,
      "metadata": {
        "colab": {
          "base_uri": "https://localhost:8080/"
        },
        "id": "YsSTjEpg-TJH",
        "outputId": "a314ac09-56a6-45aa-e1ca-40ba1a98db3c"
      },
      "outputs": [
        {
          "name": "stdout",
          "output_type": "stream",
          "text": [
            "Informe um valor: 8\n",
            "40320\n"
          ]
        }
      ],
      "source": [
        "N = 0\n",
        "fatorial = 1\n",
        "N = int(input('Informe um valor: '))\n",
        "for x in range (1, N+1):\n",
        "  fatorial = fatorial * x\n",
        "print(fatorial)"
      ]
    },
    {
      "cell_type": "markdown",
      "metadata": {
        "id": "lID-J3sPAeza"
      },
      "source": [
        "16. Escreva um programa para uma urna eletrônica. O programa fica lendo os votos até que o\n",
        "usuário informe o valor 4444444 (código de finalização da urna). Após a finalização da urna, o\n",
        "programa deverá escrever na tela a quantidade de votos e o percentual de votos para cada uma\n",
        "das opções abaixo:\n",
        "a. Votos no Candidato 77\n",
        "b. Votos no Candidato 39\n",
        "c. Votos no Candidato 66\n",
        "d. Voto em branco (0)\n",
        "e. Votos nulos (nenhuma das opções anteriores)\n",
        "f. Votos válidos (aqueles computados para algum candidato)\n",
        "g. Votos não válidos"
      ]
    },
    {
      "cell_type": "code",
      "execution_count": null,
      "metadata": {
        "id": "u7Hn4fLIAcSb"
      },
      "outputs": [],
      "source": []
    }
  ],
  "metadata": {
    "colab": {
      "authorship_tag": "ABX9TyP9YhRLspNk5FMjTPit1rDo",
      "include_colab_link": true,
      "provenance": []
    },
    "kernelspec": {
      "display_name": "Python 3",
      "name": "python3"
    },
    "language_info": {
      "name": "python"
    }
  },
  "nbformat": 4,
  "nbformat_minor": 0
}
