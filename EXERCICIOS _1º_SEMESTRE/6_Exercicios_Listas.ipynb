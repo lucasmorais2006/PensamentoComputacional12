{
  "nbformat": 4,
  "nbformat_minor": 0,
  "metadata": {
    "colab": {
      "provenance": [],
      "authorship_tag": "ABX9TyOzex3+Ql8/N4KcQMI/dI03"
    },
    "kernelspec": {
      "name": "python3",
      "display_name": "Python 3"
    },
    "language_info": {
      "name": "python"
    }
  },
  "cells": [
    {
      "cell_type": "markdown",
      "source": [
        "Exercício 1 – Array de 5 Nomes\n",
        "Objetivo:\n",
        "Ler 5 nomes de pessoas quaisquer.\n",
        "Exibir todos os nomes do primeiro ao último.\n",
        "\n"
      ],
      "metadata": {
        "id": "znDBsG6lm0M0"
      }
    },
    {
      "cell_type": "code",
      "execution_count": null,
      "metadata": {
        "colab": {
          "base_uri": "https://localhost:8080/"
        },
        "id": "iDft_UMrmpdd",
        "outputId": "d96cd324-c765-4ef9-a628-c4d95e736c53"
      },
      "outputs": [
        {
          "output_type": "stream",
          "name": "stdout",
          "text": [
            "Digite um nome: Lucas\n",
            "Digite um nome: Ryan\n",
            "Digite um nome: Augusto\n",
            "Digite um nome: Mnu\n",
            "Digite um nome: Cleiton\n",
            "Nomes digitados:\n",
            "Lucas\n",
            "Ryan\n",
            "Augusto\n",
            "Mnu\n",
            "Cleiton\n"
          ]
        }
      ],
      "source": [
        "nomes = []\n",
        "for x in range(5):\n",
        "    nome = input(\"Digite um nome: \")\n",
        "    nomes.append(nome)\n",
        "print(\"Nomes digitados:\")\n",
        "for nome in nomes:\n",
        "    print(nome)"
      ]
    },
    {
      "cell_type": "markdown",
      "source": [
        "Exercício 2 – Lista com Quantidade Informada\n",
        "Objetivo:\n",
        "Perguntar ao usuário quantos nomes ele irá informar.\n",
        "Ler os nomes e exibi-los na mesma ordem."
      ],
      "metadata": {
        "id": "HNDo68g5nccB"
      }
    },
    {
      "cell_type": "code",
      "source": [
        "x = int(input(\"Quantos nomes você quer informar? \"))\n",
        "nomes = []\n",
        "for y in range(x):\n",
        "    nome = input(\"Digite um nome: \")\n",
        "    nomes.append(nome)\n",
        "print(\"Nomes digitados:\")\n",
        "for nome in nomes:\n",
        "    print(nome)"
      ],
      "metadata": {
        "colab": {
          "base_uri": "https://localhost:8080/"
        },
        "id": "ih2u2vfZnhNE",
        "outputId": "147070a6-4e8d-4ab7-af6d-b13136d995d8"
      },
      "execution_count": null,
      "outputs": [
        {
          "output_type": "stream",
          "name": "stdout",
          "text": [
            "Quantos nomes você quer informar? 3\n",
            "Digite um nome: Lucas\n",
            "Digite um nome: Manu\n",
            "Digite um nome: Duda\n",
            "Nomes digitados:\n",
            "Lucas\n",
            "Manu\n",
            "Duda\n"
          ]
        }
      ]
    },
    {
      "cell_type": "markdown",
      "source": [
        "Exercício 3 – Times de Futebol\n",
        "Objetivo:\n",
        "Ler uma lista com nomes de times (-quantidade definida pelo usuário).\n",
        "Exibir: o primeiro time, o time do meio e o último time."
      ],
      "metadata": {
        "id": "U2Hxzocnn9dF"
      }
    },
    {
      "cell_type": "code",
      "source": [
        "x = int(input(\"Quantos times você quer informar? \"))\n",
        "times = []\n",
        "for y in range(x):\n",
        "    time = input(\"Digite um time: \")\n",
        "    times.append(time)\n",
        "print (\"O primeiro time é: \", times[0])\n",
        "if x % 2 > 0:\n",
        "  print (\"O time do meio é: \", times[int(x/2)])\n",
        "else :\n",
        "  print (\"O time do meio é: \", times[int(x/2)]+ \"/\",times[int(x/2)-1])\n",
        "print (\"O último time é: \", times[-1])\n"
      ],
      "metadata": {
        "colab": {
          "base_uri": "https://localhost:8080/"
        },
        "id": "1qJwX__6n-a9",
        "outputId": "fcd9f052-2bf6-4033-b6b5-641e1f95141d"
      },
      "execution_count": null,
      "outputs": [
        {
          "output_type": "stream",
          "name": "stdout",
          "text": [
            "Quantos times você quer informar? 6\n",
            "Digite um time: Inter\n",
            "Digite um time: Gremio\n",
            "Digite um time: Palmeiras\n",
            "Digite um time: Flamengo\n",
            "Digite um time: Botafogo\n",
            "Digite um time: Santos\n",
            "O primeiro time é:  Inter\n",
            "O time do meio é:  Flamengo/ Palmeiras\n",
            "O último time é:  Santos\n"
          ]
        }
      ]
    },
    {
      "cell_type": "markdown",
      "source": [
        "Exercício 4 – Exibir Números (Ordem Normal)\n",
        "Objetivo:\n",
        "Ler uma lista de números quaisquer.\n",
        "Exibir os números do primeiro ao último."
      ],
      "metadata": {
        "id": "XlWPpWwerFEg"
      }
    },
    {
      "cell_type": "code",
      "source": [
        "numeros = []\n",
        "while True:\n",
        "    numero = str(input(\"Digite um número: \"))\n",
        "    if numero == \"encerrar\":\n",
        "        break\n",
        "    numeros.append(numero)\n",
        "print(\"Números digitados:\")\n",
        "for numero in numeros:\n",
        "    print(numero)\n"
      ],
      "metadata": {
        "colab": {
          "base_uri": "https://localhost:8080/"
        },
        "id": "diCGa5NcrH2R",
        "outputId": "877a9018-55f9-41f3-f1a6-35b8251fa920"
      },
      "execution_count": null,
      "outputs": [
        {
          "output_type": "stream",
          "name": "stdout",
          "text": [
            "Digite um número: 1\n",
            "Digite um número: 2\n",
            "Digite um número: 3\n",
            "Digite um número: 4\n",
            "Digite um número: 5\n",
            "Digite um número: encerrar\n",
            "Números digitados:\n",
            "1\n",
            "2\n",
            "3\n",
            "4\n",
            "5\n"
          ]
        }
      ]
    },
    {
      "cell_type": "markdown",
      "source": [
        "Exercício 5 – Exibir Números (Ordem Inversa)\n",
        "Objetivo:\n",
        "Ler uma lista de números.\n",
        "Exibir os números do último para o primeiro."
      ],
      "metadata": {
        "id": "lIROLBdArxep"
      }
    },
    {
      "cell_type": "code",
      "source": [
        "numeros = []\n",
        "while True:\n",
        "    numero = str(input(\"Digite um número: \"))\n",
        "    if numero == \"encerrar\":\n",
        "        break\n",
        "    numeros.append(numero)\n",
        "numeros.reverse()\n",
        "print(\"Números digitados na ordem inversa:\")\n",
        "for numero in numeros:\n",
        "    print(numero)"
      ],
      "metadata": {
        "colab": {
          "base_uri": "https://localhost:8080/"
        },
        "id": "0qmxQUwEr5Lp",
        "outputId": "465d05db-c528-48e9-ad75-55638819f5e3"
      },
      "execution_count": null,
      "outputs": [
        {
          "output_type": "stream",
          "name": "stdout",
          "text": [
            "Digite um número: 4\n",
            "Digite um número: 5\n",
            "Digite um número: 6\n",
            "Digite um número: 7\n",
            "Digite um número: 8\n",
            "Digite um número: encerrar\n",
            "Números digitados na ordem inversa:\n",
            "8\n",
            "7\n",
            "6\n",
            "5\n",
            "4\n"
          ]
        }
      ]
    },
    {
      "cell_type": "markdown",
      "source": [
        "Exercício 6 – Exibir Números Pulando de 2 em 2\n",
        "Objetivo:\n",
        "Ler uma lista de números.\n",
        "Exibir os números do primeiro ao último, pulando de dois em dois."
      ],
      "metadata": {
        "id": "4-atDEPtsQFQ"
      }
    },
    {
      "cell_type": "code",
      "source": [
        "numeros = []\n",
        "while True:\n",
        "    numero = str(input(\"Digite um número: \"))\n",
        "    if numero == \"encerrar\":\n",
        "        break\n",
        "    numeros.append(numero)\n",
        "print (\"Números digitados pulando de dois em dois:\")\n",
        "for numero in range(0, len(numeros), 2):\n",
        "    print(numeros[numero])"
      ],
      "metadata": {
        "colab": {
          "base_uri": "https://localhost:8080/"
        },
        "id": "iFj3aZjSsQ1I",
        "outputId": "7cda52de-6c9b-4426-d9cb-c070901cee59"
      },
      "execution_count": null,
      "outputs": [
        {
          "output_type": "stream",
          "name": "stdout",
          "text": [
            "Digite um número: 4\n",
            "Digite um número: 5\n",
            "Digite um número: 6\n",
            "Digite um número: 7\n",
            "Digite um número: encerrar\n",
            "Números digitados pulando de dois em dois:\n",
            "4\n",
            "6\n"
          ]
        }
      ]
    },
    {
      "cell_type": "markdown",
      "source": [
        "Exercício 7 – Exibir Números Inversos Pulando de 3 em 3\n",
        "Objetivo:\n",
        "Ler uma lista de números.\n",
        "Exibir os números do último para o primeiro, pulando de três em três."
      ],
      "metadata": {
        "id": "gX75lb-Atjc8"
      }
    },
    {
      "cell_type": "code",
      "source": [
        "numeros = []\n",
        "while True:\n",
        "    numero = str(input(\"Digite um número: \"))\n",
        "    if numero == \"encerrar\":\n",
        "        break\n",
        "    numeros.append(numero)\n",
        "numeros.reverse()\n",
        "print (\"Números digitados pulando de dois em dois:\")\n",
        "for numero in range(0, len(numeros), 3):\n",
        "    print(numeros[numero])"
      ],
      "metadata": {
        "colab": {
          "base_uri": "https://localhost:8080/"
        },
        "id": "EWodcZAztmKo",
        "outputId": "c0ef178c-f12b-40f0-f9d2-36478e63944e"
      },
      "execution_count": null,
      "outputs": [
        {
          "output_type": "stream",
          "name": "stdout",
          "text": [
            "Digite um número: 3\n",
            "Digite um número: 4\n",
            "Digite um número: 5\n",
            "Digite um número: 7\n",
            "Digite um número: encerrar\n",
            "Números digitados pulando de dois em dois:\n",
            "7\n",
            "3\n"
          ]
        }
      ]
    },
    {
      "cell_type": "markdown",
      "source": [
        "Exercício 8 – Exibir a Partir do Meio\n",
        "Objetivo:\n",
        "Ler uma lista de números (com quantidade definida pelo usuário).\n",
        "Exibir os números do meio ao primeiro e, depois, do meio ao último.\n",
        "Se a lista for par, não há um único valor central."
      ],
      "metadata": {
        "id": "y2l_TRMDuHo_"
      }
    },
    {
      "cell_type": "code",
      "source": [
        "x = int(input(\"Quantos números você quer informar? \"))\n",
        "numeros = []\n",
        "for y in range(x):\n",
        "    numero = int(input(\"Digite um número: \"))\n",
        "    numeros.append(numero)\n",
        "if x % 2 > 0:\n",
        "  for numero in range(int(x/2), -1, -1):\n",
        "    print(numeros[numero])\n",
        "  for numero in range(int(x/2), x):\n",
        "    print(numeros[numero])\n",
        "else :\n",
        "  for numero in range(int(x/2)-1, -1, -1):\n",
        "    print(numeros[numero])\n",
        "  for numero in range(int(x/2), x):\n",
        "    print(numeros[numero])"
      ],
      "metadata": {
        "colab": {
          "base_uri": "https://localhost:8080/"
        },
        "id": "9eiqlqUwuKZb",
        "outputId": "55e6bf97-c50e-4a78-d3ee-9a5b29d2af73"
      },
      "execution_count": null,
      "outputs": [
        {
          "output_type": "stream",
          "name": "stdout",
          "text": [
            "Quantos números você quer informar? 5\n",
            "Digite um número: 8\n",
            "Digite um número: 3\n",
            "Digite um número: 7\n",
            "Digite um número: 0\n",
            "Digite um número: 2\n",
            "7\n",
            "3\n",
            "8\n",
            "7\n",
            "0\n",
            "2\n"
          ]
        }
      ]
    },
    {
      "cell_type": "markdown",
      "source": [
        "Exercício 9 – Filtrar Salários\n",
        "Objetivo:\n",
        "Ler uma lista de salários.\n",
        "Exibir apenas os salários maiores ou iguais a R$1412,00."
      ],
      "metadata": {
        "id": "BEs8b_Ef1nHa"
      }
    },
    {
      "cell_type": "code",
      "source": [
        "salarios = []\n",
        "x = int(input(\"Quantos salários você quer informar? \"))\n",
        "for y in range(x):\n",
        "    salario = float(input(\"Digite um salário: \"))\n",
        "    salarios.append(salario)\n",
        "print(\"Salários maiores ou iguais a R$1412,00:\")\n",
        "for salario in salarios:\n",
        "    if salario >= 1412.00:\n",
        "        print(salario)"
      ],
      "metadata": {
        "colab": {
          "base_uri": "https://localhost:8080/"
        },
        "id": "7suE_ogu1rgS",
        "outputId": "f5406d48-9d8d-4683-a8cb-9aa1aadc94c2"
      },
      "execution_count": null,
      "outputs": [
        {
          "output_type": "stream",
          "name": "stdout",
          "text": [
            "Quantos salários você quer informar? 3\n",
            "Digite um salário: 1500\n",
            "Digite um salário: 1200\n",
            "Digite um salário: 1600\n",
            "Salários maiores ou iguais a R$1412,00:\n",
            "1500.0\n",
            "1600.0\n"
          ]
        }
      ]
    },
    {
      "cell_type": "markdown",
      "source": [
        "Exercício 10 – Notas dos Alunos (Separar Aprovação)\n",
        "Objetivo:\n",
        "Ler uma lista de notas.\n",
        "Exibir primeiro as notas que alcançaram a média (≥ 7.0) e depois as que não\n",
        "alcançaram."
      ],
      "metadata": {
        "id": "Wd2YAjfx2Gq2"
      }
    },
    {
      "cell_type": "code",
      "source": [
        "notas = []\n",
        "while True:\n",
        "  print(\"Digite as notas ou um número negativo para finalizar\")\n",
        "  nota = float(input(\"Digite uma nota: \"))\n",
        "  if nota < 0:\n",
        "    break\n",
        "  notas.append(nota)\n",
        "print(\"Notas que alcançaram a média:\")\n",
        "for nota in notas:\n",
        "  if nota >= 7.0:\n",
        "    print(nota)\n",
        "print(\"Notas que não alcançaram a média:\")\n",
        "for nota in notas:\n",
        "  if nota < 7.0:\n",
        "    print(nota)"
      ],
      "metadata": {
        "colab": {
          "base_uri": "https://localhost:8080/"
        },
        "id": "ftdR-L2_2Lz_",
        "outputId": "ee0318a3-33fc-416b-c7be-f21e92eeb8bb"
      },
      "execution_count": null,
      "outputs": [
        {
          "output_type": "stream",
          "name": "stdout",
          "text": [
            "Digite as notas ou um número negativo para finalizar\n",
            "Digite uma nota: 8\n",
            "Digite as notas ou um número negativo para finalizar\n",
            "Digite uma nota: 5\n",
            "Digite as notas ou um número negativo para finalizar\n",
            "Digite uma nota: 7\n",
            "Digite as notas ou um número negativo para finalizar\n",
            "Digite uma nota: 8\n",
            "Digite as notas ou um número negativo para finalizar\n",
            "Digite uma nota: 4\n",
            "Digite as notas ou um número negativo para finalizar\n",
            "Digite uma nota: 5\n",
            "Digite as notas ou um número negativo para finalizar\n",
            "Digite uma nota: 7\n",
            "Digite as notas ou um número negativo para finalizar\n",
            "Digite uma nota: -1\n",
            "Notas que alcançaram a média:\n",
            "8.0\n",
            "7.0\n",
            "8.0\n",
            "7.0\n",
            "Notas que não alcançaram a média:\n",
            "5.0\n",
            "4.0\n",
            "5.0\n"
          ]
        }
      ]
    },
    {
      "cell_type": "markdown",
      "source": [
        "Soma de 12 Salários\n",
        "Objetivo:\n",
        "Ler uma lista de 12 salários.\n",
        "Calcular e exibir a soma total dos salários."
      ],
      "metadata": {
        "id": "4q4PFH4n5KH2"
      }
    },
    {
      "cell_type": "code",
      "source": [
        "salarios = []\n",
        "for x in range(12):\n",
        "    salario = float(input(\"Digite um salário: \"))\n",
        "    salarios.append(salario)\n",
        "soma = 0\n",
        "for salario in salarios:\n",
        "    soma = soma + salario\n",
        "print(\"A soma total dos salários é: \", soma)\n"
      ],
      "metadata": {
        "colab": {
          "base_uri": "https://localhost:8080/"
        },
        "id": "t8zOqJu15NsW",
        "outputId": "fb382763-a73c-41ea-cf03-77e01ee8c157"
      },
      "execution_count": null,
      "outputs": [
        {
          "output_type": "stream",
          "name": "stdout",
          "text": [
            "Digite um salário: 3000\n",
            "Digite um salário: 3000\n",
            "Digite um salário: 3000\n",
            "Digite um salário: 3000\n",
            "Digite um salário: 3000\n",
            "Digite um salário: 3000\n",
            "Digite um salário: 3000\n",
            "Digite um salário: 3000\n",
            "Digite um salário: 3000\n",
            "Digite um salário: 3000\n",
            "Digite um salário: 3000\n",
            "Digite um salário: 3000\n",
            "A soma total dos salários é:  36000.0\n"
          ]
        }
      ]
    },
    {
      "cell_type": "markdown",
      "source": [
        "Exercício 12 – Média de Notas\n",
        "Objetivo:\n",
        "Ler uma lista de notas.\n",
        "Calcular e exibir a média de todas as notas."
      ],
      "metadata": {
        "id": "cV-NwV9u5sFV"
      }
    },
    {
      "cell_type": "code",
      "source": [
        "notas = []\n",
        "while True:\n",
        "  print(\"Digite as notas ou um número negativo para finalizar\")\n",
        "  nota = float(input(\"Digite uma nota: \"))\n",
        "  if nota < 0:\n",
        "    break\n",
        "  notas.append(nota)\n",
        "  soma = 0\n",
        "  for nota in notas:\n",
        "    soma = soma + nota\n",
        "    media = soma / len(notas)\n",
        "print(\"A média das notas é: \", media)\n"
      ],
      "metadata": {
        "colab": {
          "base_uri": "https://localhost:8080/"
        },
        "id": "WqOCRbAJ5sfe",
        "outputId": "056aca69-ac81-4556-f5d8-d536a7520215"
      },
      "execution_count": null,
      "outputs": [
        {
          "output_type": "stream",
          "name": "stdout",
          "text": [
            "Digite as notas ou um número negativo para finalizar\n",
            "Digite uma nota: 7\n",
            "Digite as notas ou um número negativo para finalizar\n",
            "Digite uma nota: 6\n",
            "Digite as notas ou um número negativo para finalizar\n",
            "Digite uma nota: 5\n",
            "Digite as notas ou um número negativo para finalizar\n",
            "Digite uma nota: 8\n",
            "Digite as notas ou um número negativo para finalizar\n",
            "Digite uma nota: 7\n",
            "Digite as notas ou um número negativo para finalizar\n",
            "Digite uma nota: -1\n",
            "A média das notas é:  6.6\n"
          ]
        }
      ]
    },
    {
      "cell_type": "markdown",
      "source": [
        "Exercício 13 – Contagem de Notas Acima e Abaixo da\n",
        "Média\n",
        "Objetivo:\n",
        "Ler uma lista de notas.\n",
        "Contar quantas notas alcançaram (≥ 7.0) e quantas não alcançaram a média."
      ],
      "metadata": {
        "id": "WXDSzgWr6mU4"
      }
    },
    {
      "cell_type": "code",
      "source": [
        "notas = []\n",
        "cont_abaixo = 0\n",
        "cont_acima = 0\n",
        "while True:\n",
        "  print(\"Digite as notas ou um número negativo para finalizar\")\n",
        "  nota = float(input(\"Digite uma nota: \"))\n",
        "  if nota < 0:\n",
        "    break\n",
        "  notas.append(nota)\n",
        "for nota in notas:\n",
        "  if nota >= 7.0:\n",
        "    cont_acima = cont_acima + 1\n",
        "print(\"Quantidade de notas que alcançaram a média:\", cont_acima)\n",
        "for nota in notas:\n",
        "  if nota < 7.0:\n",
        "    cont_abaixo = cont_abaixo + 1\n",
        "print(\"Quantidade de notas que não alcançaram a média:\", cont_abaixo)\n",
        "\n"
      ],
      "metadata": {
        "colab": {
          "base_uri": "https://localhost:8080/"
        },
        "id": "Gly8M1tw6_4k",
        "outputId": "96c84c79-50fa-423e-8b10-f00627b0d539"
      },
      "execution_count": null,
      "outputs": [
        {
          "output_type": "stream",
          "name": "stdout",
          "text": [
            "Digite as notas ou um número negativo para finalizar\n",
            "Digite uma nota: 6\n",
            "Digite as notas ou um número negativo para finalizar\n",
            "Digite uma nota: 7\n",
            "Digite as notas ou um número negativo para finalizar\n",
            "Digite uma nota: 8\n",
            "Digite as notas ou um número negativo para finalizar\n",
            "Digite uma nota: 5\n",
            "Digite as notas ou um número negativo para finalizar\n",
            "Digite uma nota: 8\n",
            "Digite as notas ou um número negativo para finalizar\n",
            "Digite uma nota: -1\n",
            "Quantidade de notas que alcançaram a média: 3\n",
            "Quantidade de notas que não alcançaram a média: 2\n"
          ]
        }
      ]
    },
    {
      "cell_type": "markdown",
      "source": [
        "Exercício 14 – Classificação de Idades\n",
        "Objetivo:\n",
        "Ler uma lista de idades.\n",
        "Contar quantas idades são de:\n",
        "Crianças (até 11 anos)\n",
        "Adolescentes (12 a 17 anos)\n",
        "Adultos (18 anos ou mais)"
      ],
      "metadata": {
        "id": "0QOtSv1u76Rr"
      }
    },
    {
      "cell_type": "code",
      "source": [
        "idades = []\n",
        "cont_criancas = 0\n",
        "cont_adolescentes = 0\n",
        "cont_adultos = 0\n",
        "while True:\n",
        "  print(\"Digite as idades ou um número negativo para finalizar\")\n",
        "  idade = int(input(\"Digite uma idade: \"))\n",
        "  if idade < 0:\n",
        "    break\n",
        "  idades.append(idade)\n",
        "for idade in idades:\n",
        "  if idade <= 11:\n",
        "    cont_criancas = cont_criancas + 1\n",
        "print(\"Crianças:\", cont_criancas)\n",
        "for idade in idades:\n",
        "  if idade >= 12 and idade <= 17:\n",
        "    cont_adolescentes = cont_adolescentes + 1\n",
        "print(\"Adolescentes:\", cont_adolescentes)\n",
        "for idade in idades:\n",
        "  if idade >= 18:\n",
        "    cont_adultos = cont_adultos + 1\n",
        "print(\"Adultos:\", cont_adultos)"
      ],
      "metadata": {
        "colab": {
          "base_uri": "https://localhost:8080/"
        },
        "id": "airbSrGI780C",
        "outputId": "197b5c0b-d2d0-4ab0-f925-999a95cbde1c"
      },
      "execution_count": null,
      "outputs": [
        {
          "output_type": "stream",
          "name": "stdout",
          "text": [
            "Digite as idades ou um número negativo para finalizar\n",
            "Digite uma idade: 18\n",
            "Digite as idades ou um número negativo para finalizar\n",
            "Digite uma idade: 12\n",
            "Digite as idades ou um número negativo para finalizar\n",
            "Digite uma idade: 6\n",
            "Digite as idades ou um número negativo para finalizar\n",
            "Digite uma idade: -1\n",
            "Crianças: 1\n",
            "Adolescentes: 1\n",
            "Adultos: 1\n"
          ]
        }
      ]
    },
    {
      "cell_type": "markdown",
      "source": [
        "Exercício 15 – Média de Idades por Grupo\n",
        "Objetivo:\n",
        "Utilizando a lista do exercício anterior, calcular a média de idade:\n",
        "das crianças\n",
        "dos adolescentes\n",
        "dos adultos\n",
        "Exibir as contagens e as médias.\n",
        "Exemplo:\n",
        "Entrada:\n",
        "10\n",
        "45, 17, 34, 21, 15, 4, 11, 29, 12, 21\n",
        "Saída:\n",
        "Crianças: 2, Média: 7.5\n",
        "Adolescentes: 3, Média: 14.67\n",
        "Adultos: 5, Média: 30.0"
      ],
      "metadata": {
        "id": "x-S4_zloNi3b"
      }
    },
    {
      "cell_type": "code",
      "source": [
        "idades = []\n",
        "cont_criancas = 0\n",
        "cont_adolescentes = 0\n",
        "cont_adultos = 0\n",
        "media = 0\n",
        "soma = 0\n",
        "while True:\n",
        "  print(\"Digite as idades ou um número negativo para finalizar\")\n",
        "  idade = int(input(\"Digite uma idade: \"))\n",
        "  if idade < 0:\n",
        "    break\n",
        "  idades.append(idade)\n",
        "for idade in idades:\n",
        "  if idade <= 11:\n",
        "    cont_criancas = cont_criancas + 1\n",
        "print(\"Crianças:\", cont_criancas)\n",
        "for idade in idades:\n",
        "  if idade >= 12 and idade <= 17:\n",
        "    cont_adolescentes = cont_adolescentes + 1\n",
        "print(\"Adolescentes:\", cont_adolescentes)\n",
        "for idade in idades:\n",
        "  if idade >= 18:\n",
        "    cont_adultos = cont_adultos + 1\n",
        "    soma = soma + idade\n",
        "    media_adultos = soma / cont_adultos\n",
        "print(\"Adultos:\", cont_adultos,\"Média:\", media_adultos)"
      ],
      "metadata": {
        "id": "SLm4M-pWNjPC"
      },
      "execution_count": null,
      "outputs": []
    }
  ]
}