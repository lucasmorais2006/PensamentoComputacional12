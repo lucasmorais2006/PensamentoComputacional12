{
  "cells": [
    {
      "cell_type": "markdown",
      "metadata": {
        "colab_type": "text",
        "id": "view-in-github"
      },
      "source": [
        "<a href=\"https://colab.research.google.com/github/lucasmorais2006/Exerc-cios-da-Discipina-de-Pensamento-Computacional/blob/main/2_Exercicios_02_04.ipynb\" target=\"_parent\"><img src=\"https://colab.research.google.com/assets/colab-badge.svg\" alt=\"Open In Colab\"/></a>"
      ]
    },
    {
      "cell_type": "markdown",
      "metadata": {
        "id": "lgLsRlmV8jwK"
      },
      "source": [
        "### Exercícios de Aula: Comandos de Entrada e Saída em Phyton"
      ]
    },
    {
      "cell_type": "markdown",
      "metadata": {
        "id": "V4hmvMI08yBB"
      },
      "source": [
        "1. Faça em Python um algoritmo que leia um número inteiro qualquer. O algoritmo deve calcular e escrever o quadrado, a raiz quadrada, e a divisão do quadrado pela raiz quadrada do número lido."
      ]
    },
    {
      "cell_type": "code",
      "execution_count": null,
      "metadata": {
        "colab": {
          "base_uri": "https://localhost:8080/"
        },
        "id": "lGrT-7Kl7wfl",
        "outputId": "dba20094-ef17-4964-e66f-1b49455f5efe"
      },
      "outputs": [
        {
          "name": "stdout",
          "output_type": "stream",
          "text": [
            "Informe um número inteiro: 6\n",
            "O quadrado de 6 é 36\n",
            "A raiz quadrada de 6 é 2.449489742783178\n",
            "A divisão do quadrado de 6 pela raiz quadrada de 6 é 14.696938456699069\n"
          ]
        }
      ],
      "source": [
        "# Algoritmo de cálculo de quadrado, raiz quadrada e divisão do quadrado pela raiz quadrada\n",
        "\n",
        "#bibliotecas\n",
        "import math\n",
        "\n",
        "#vars\n",
        "n = 0\n",
        "quad = 0\n",
        "raiz = 0\n",
        "div_quad_raiz = 0\n",
        "\n",
        "#inicio\n",
        "n = int(input(\"Informe um número inteiro: \"))\n",
        "#quadrado de n\n",
        "quad = n ** 2\n",
        "print('O quadrado de',n,'é',quad)\n",
        "#raiz quadrada\n",
        "raiz = math.sqrt(n)\n",
        "print('A raiz quadrada de',n,'é',raiz)\n",
        "#divisao do quadrado pela raiz\n",
        "div_quad_raiz = quad/raiz\n",
        "print('A divisão do quadrado de',n,'pela raiz quadrada de',n,'é',div_quad_raiz)\n",
        "#fim"
      ]
    },
    {
      "cell_type": "markdown",
      "metadata": {
        "id": "FlhpHq6cBUyx"
      },
      "source": [
        "2. Faça em Python um algoritmo que calcule e escreva o preço final de um computador, sendo fornecido o\n",
        "preço de fábrica. O preço final do computador é calculado com base nos adicionais de: 30 % de imposto e\n",
        "10 % de revenda sobre o preço de fábrica."
      ]
    },
    {
      "cell_type": "code",
      "execution_count": null,
      "metadata": {
        "colab": {
          "base_uri": "https://localhost:8080/"
        },
        "id": "gtMAxW4iBYUB",
        "outputId": "14c9c9ea-39a7-4d8a-aa28-a0ed8eb5b540"
      },
      "outputs": [
        {
          "name": "stdout",
          "output_type": "stream",
          "text": [
            "Informe o preço de fábrica do computador: R$1234.80\n",
            "O preço final do computador é 1728.72\n"
          ]
        }
      ],
      "source": [
        "#vars\n",
        "imposto = 30\n",
        "revenda = 10\n",
        "preco_fabrica = 0\n",
        "preco_final = 0\n",
        "\n",
        "#inicio\n",
        "preco_fabrica = float(input(\"Informe o preço de fábrica do computador: R$\"))\n",
        "imposto = preco_fabrica*imposto / 100\n",
        "revenda = preco_fabrica*revenda / 100\n",
        "preco_final = preco_fabrica + imposto + revenda\n",
        "print('O preço final do computador é',round(preco_final, 2))\n",
        "#fim"
      ]
    },
    {
      "cell_type": "markdown",
      "metadata": {
        "id": "EVa1v2I8Dx2a"
      },
      "source": [
        "3. Faça um algoritmo em Python que leia três números inteiros e calcule a sua média. Ao final, o algoritmo\n",
        "deve escrever os números lidos e o resultado da média."
      ]
    },
    {
      "cell_type": "code",
      "execution_count": null,
      "metadata": {
        "colab": {
          "base_uri": "https://localhost:8080/"
        },
        "id": "_nFdtYmrD1JZ",
        "outputId": "27450489-127d-4314-da58-7717b474391b"
      },
      "outputs": [
        {
          "name": "stdout",
          "output_type": "stream",
          "text": [
            "Informe o primeiro número: 5\n",
            "Informe o segundo número: 10\n",
            "Informe o terceiro número: 20\n",
            "A média dos números 5 , 10 e 20 é 11.666666666666666\n"
          ]
        }
      ],
      "source": [
        "#vars\n",
        "n1 = 0\n",
        "n2 = 0\n",
        "n3 = 0\n",
        "media = 0\n",
        "\n",
        "#inicio\n",
        "n1 = int(input(\"Informe o primeiro número: \"))\n",
        "n2 = int(input(\"Informe o segundo número: \"))\n",
        "n3 = int(input(\"Informe o terceiro número: \"))\n",
        "media = (n1 + n2 + n3)/3\n",
        "print('A média dos números',n1,',',n2,'e',n3,'é',media)\n",
        "#fim\n"
      ]
    },
    {
      "cell_type": "markdown",
      "metadata": {
        "id": "yqEYnA0VEPxJ"
      },
      "source": [
        "4. Fazer um algoritmo em Python que calcule o número de litros de combustível gastos em uma viagem,\n",
        "sabendo-se que o carro faz 12 km com um litro. Deverão ser lidos o tempo gasto na viagem e a velocidade\n",
        "média. Aplicar as seguintes fórmulas:\n",
        "- Distância = tempo gasto x velocidade média\n",
        "- litros gastos = distância / 12"
      ]
    },
    {
      "cell_type": "code",
      "execution_count": null,
      "metadata": {
        "colab": {
          "base_uri": "https://localhost:8080/"
        },
        "id": "nzkVoGq5EPfy",
        "outputId": "03987a51-2ac9-4b73-d969-3b4e426f72a5"
      },
      "outputs": [
        {
          "name": "stdout",
          "output_type": "stream",
          "text": [
            "Informe o tempo que foi gasto na viagem em horas: 6\n",
            "Informe a velocidade média em km/h: 80\n",
            "Foi gasto 40.0 litros na viagem.\n"
          ]
        }
      ],
      "source": [
        "#vars\n",
        "vm = 0\n",
        "lt = 0\n",
        "distancia = 0\n",
        "tempo = 0\n",
        "\n",
        "#inicio\n",
        "tempo = float(input(\"Informe o tempo que foi gasto na viagem em horas: \"))\n",
        "vm = float(input(\"Informe a velocidade média em km/h: \"))\n",
        "distancia = tempo * vm\n",
        "lt = distancia / 12\n",
        "print (\"Foi gasto\",lt,\"litros na viagem.\")\n",
        "#fim"
      ]
    },
    {
      "cell_type": "markdown",
      "metadata": {
        "id": "nAGOTK0EGnCa"
      },
      "source": [
        "5. Faça em Python um algoritmo que leia dois números inteiros (x e y), e calcule o quociente e o resto da\n",
        "divisão de x por y e escreva os resultados."
      ]
    },
    {
      "cell_type": "code",
      "execution_count": null,
      "metadata": {
        "colab": {
          "base_uri": "https://localhost:8080/"
        },
        "id": "4ccWBbcJGozJ",
        "outputId": "2f1833c7-f34c-4245-e712-d0e823d68ab1"
      },
      "outputs": [
        {
          "name": "stdout",
          "output_type": "stream",
          "text": [
            "Informe o primeiro número: 4\n",
            "Informe o segundo número: 3\n",
            "O quociente da divisão de 4 por 3 é 1 e o resto é 1\n"
          ]
        }
      ],
      "source": [
        "#vars\n",
        "x = 0\n",
        "y = 0\n",
        "quociente = 0\n",
        "resto = 0\n",
        "\n",
        "#inicio\n",
        "x = int(input(\"Informe o primeiro número: \"))\n",
        "y = int(input(\"Informe o segundo número: \"))\n",
        "quociente = x // y\n",
        "resto = x % y\n",
        "print('O quociente da divisão de',x,'por',y,'é',quociente, 'e o resto é',resto)\n",
        "#fim"
      ]
    },
    {
      "cell_type": "markdown",
      "metadata": {
        "id": "eCB2WmTTHioa"
      },
      "source": [
        "6. Escreva em python um algoritmo que leia três números reais (a, b, c), e calcule a média aritmética. Após\n",
        "os cálculos, os resultados deverão ser escritos."
      ]
    },
    {
      "cell_type": "code",
      "execution_count": null,
      "metadata": {
        "colab": {
          "base_uri": "https://localhost:8080/"
        },
        "id": "istxovgoHlza",
        "outputId": "e2205509-6292-4fb0-9642-abee39b38f7f"
      },
      "outputs": [
        {
          "name": "stdout",
          "output_type": "stream",
          "text": [
            "Informe o primeiro número: 10\n",
            "Informe o segundo número: 40\n",
            "Informe o terceiro número: 30\n",
            "A média dos números 10.0 , 40.0 e 30.0 é 26.666666666666668\n"
          ]
        }
      ],
      "source": [
        "#vars\n",
        "a = 0\n",
        "b = 0\n",
        "c = 0\n",
        "media = 0\n",
        "\n",
        "#inicio\n",
        "a = float(input(\"Informe o primeiro número: \"))\n",
        "b = float(input(\"Informe o segundo número: \"))\n",
        "c = float(input(\"Informe o terceiro número: \"))\n",
        "media = (a + b + c)/3\n",
        "print('A média dos números',a,',',b,'e',c,'é',media)\n",
        "#fim"
      ]
    },
    {
      "cell_type": "markdown",
      "metadata": {
        "id": "5LFgnLYLIU00"
      },
      "source": [
        "7. Uma loja de equipamentos de informática resolveu incentivar os seus funcionários a venderem no mês\n",
        "março. Para cada produto vendido, a loja dará uma bonificação de 1%, sobre o salário do funcionário.\n",
        "Desta forma, o funcionário que vender 10 produtos, terá um acréscimo de 10% em seu salário. Faça um\n",
        "algoritmo em Python que leia o código, o nome e o salário fixo do funcionário, além do número de\n",
        "produtos vendidos por ele no mês, e calcule o salário final do funcionário. Por fim, o algoritmo deve\n",
        "escrever o código e o nome do funcionário, juntamente com o seu salário final."
      ]
    },
    {
      "cell_type": "code",
      "execution_count": null,
      "metadata": {
        "colab": {
          "base_uri": "https://localhost:8080/"
        },
        "id": "06P3cLHzIWtk",
        "outputId": "354d911f-7189-448c-f8ee-90a070826235"
      },
      "outputs": [
        {
          "name": "stdout",
          "output_type": "stream",
          "text": [
            "Informe o nome do funcionário: lucas\n",
            "Informe o salário fixo do funcionário: R$1100\n",
            "Informe o número de produtos vendidos no mês: 5\n",
            "O salário final do funcionário lucas será de R$ 1155.0\n"
          ]
        }
      ],
      "source": [
        "#vars\n",
        "nome = 'qualquer um'\n",
        "salario = 0\n",
        "salario_final = 0\n",
        "produtos_vendidos = 0\n",
        "bonificacao = 0\n",
        "\n",
        "#inicio\n",
        "nome = input(\"Informe o nome do funcionário: \")\n",
        "salario = float(input(\"Informe o salário fixo do funcionário: R$\"))\n",
        "produtos_vendidos = int(input(\"Informe o número de produtos vendidos no mês: \"))\n",
        "#calculos\n",
        "bonificacao = salario*produtos_vendidos / 100\n",
        "salario_final = salario + bonificacao\n",
        "print ('O salário final do funcionário',nome,'será de R$',round(salario_final, 2))\n",
        "#fim"
      ]
    },
    {
      "cell_type": "markdown",
      "metadata": {
        "id": "q-9O2dpVWRcQ"
      },
      "source": [
        "8. Construa um algoritmo em Python que calcule a quantidade de latas de tintas necessárias e o custo para\n",
        "pintar tanques cilíndricos de combustível, onde são fornecidos a altura e o raio deste cilindro. Sabendo\n",
        "que:\n",
        "● a lata de tinta custa R$ 150,00\n",
        "● cada lata contém 5 litros;\n",
        "● cada litro de tinta pinta 3 metros quadrados;\n",
        "● a área do total cilindro é dada por área da base + área lateral;\n",
        "● a área da base do cilindro é dada π * raio\n",
        "2\n",
        "● a área da lateral é 2 * π * raio *  altura.\n",
        "● Lembrando que π (pi) vale 3,14."
      ]
    },
    {
      "cell_type": "code",
      "execution_count": null,
      "metadata": {
        "colab": {
          "base_uri": "https://localhost:8080/"
        },
        "id": "oEdydwcmWUf3",
        "outputId": "1d2be7c4-3050-469d-fd4a-4ecc86495515"
      },
      "outputs": [
        {
          "name": "stdout",
          "output_type": "stream",
          "text": [
            "Informe a altura do cilindro em metros: 2\n",
            "Informe o raio do cilindro em metros: 1.5\n",
            "Serão necessárias 1 latas de tinta para pintar o cilindro.\n"
          ]
        }
      ],
      "source": [
        "\n",
        "#vars\n",
        "pi = 3.14\n",
        "preco_lata = 150.00\n",
        "litros_lata = 5\n",
        "base_cilindro = 0\n",
        "area_lateral = 0\n",
        "area_total = 0\n",
        "raio = 0\n",
        "altura = 0\n",
        "\n",
        "#inicio\n",
        "altura = float(input(\"Informe a altura do cilindro em metros: \"))\n",
        "raio = float(input(\"Informe o raio do cilindro em metros: \"))\n",
        "#calculos\n",
        "area_lateral = 2 * pi * raio * altura\n",
        "base_cilindro = pi * raio ** 2\n",
        "area_total = base_cilindro + area_lateral\n",
        "litros_necessarios = area_total / 3\n",
        "latas_necessarias = litros_necessarios / litros_lata\n",
        "print ('Serão necessárias',int(latas_necessarias),'latas de tinta para pintar o cilindro.')\n",
        "#fim"
      ]
    },
    {
      "cell_type": "markdown",
      "metadata": {
        "id": "gfTCTytFZ7Wo"
      },
      "source": [
        "9. Elabore um algoritmo em Python para calcular e escrever o preço final de um computador, sendo\n",
        "fornecido o preço de fábrica. O preço final do computador é calculado com base nos adicionais 45 % de\n",
        "imposto e 28 % de revenda sobre o preço de fábrica."
      ]
    },
    {
      "cell_type": "code",
      "execution_count": null,
      "metadata": {
        "colab": {
          "base_uri": "https://localhost:8080/"
        },
        "id": "VAZbytfKZ9fg",
        "outputId": "3dc59e28-de54-4110-ef5c-e800d7340cbc"
      },
      "outputs": [
        {
          "name": "stdout",
          "output_type": "stream",
          "text": [
            "Informe o preço de fábrica do computador: R$4000\n",
            "O preço final do computador é 6920.0\n"
          ]
        }
      ],
      "source": [
        "#vars\n",
        "imposto = 45\n",
        "revenda = 28\n",
        "preco_fabrica = 0\n",
        "preco_final = 0\n",
        "\n",
        "#inicio\n",
        "preco_fabrica = float(input(\"Informe o preço de fábrica do computador: R$\"))\n",
        "imposto = preco_fabrica*imposto / 100\n",
        "revenda = preco_fabrica*revenda / 100\n",
        "preco_final = preco_fabrica + imposto + revenda\n",
        "print('O preço final do computador é',preco_final)\n",
        "#fim\n",
        "#"
      ]
    }
  ],
  "metadata": {
    "colab": {
      "authorship_tag": "ABX9TyOZiT9+3kmmIul8LGhMGW5F",
      "include_colab_link": true,
      "provenance": []
    },
    "kernelspec": {
      "display_name": "Python 3",
      "name": "python3"
    },
    "language_info": {
      "name": "python"
    }
  },
  "nbformat": 4,
  "nbformat_minor": 0
}
