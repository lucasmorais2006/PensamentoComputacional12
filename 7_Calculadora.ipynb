{
  "nbformat": 4,
  "nbformat_minor": 0,
  "metadata": {
    "colab": {
      "provenance": [],
      "authorship_tag": "ABX9TyMjfOJmcmK4WVZYONuipa7X"
    },
    "kernelspec": {
      "name": "python3",
      "display_name": "Python 3"
    },
    "language_info": {
      "name": "python"
    }
  },
  "cells": [
    {
      "cell_type": "markdown",
      "source": [
        "Calculadora simples em Phyton"
      ],
      "metadata": {
        "id": "QNbGGoUlmeXV"
      }
    },
    {
      "cell_type": "code",
      "execution_count": 7,
      "metadata": {
        "id": "OgaGS_Y5mZTK"
      },
      "outputs": [],
      "source": [
        "import math\n",
        "def soma(a, b):\n",
        "  return a + b\n",
        "\n",
        "def sub(a, b):\n",
        "  return a - b\n",
        "\n",
        "def mult(a, b):\n",
        "  return a * b\n",
        "\n",
        "def div(a, b):\n",
        "  return a / b\n",
        "\n",
        "def pot(a, b):\n",
        "  return a ** b\n",
        "\n",
        "def raiz(a, b):\n",
        "  return a ** (1/b)"
      ]
    },
    {
      "cell_type": "code",
      "source": [
        "\n",
        "op_string = 'Digite + para soma, - para subtração'\n",
        "op_string += '\\n * para multiplição, '\n",
        "op_string += '\\n / para divisão ou '\n",
        "op_string += '\\n p para potenciação ou '\n",
        "op_string += '\\n r para raiz quadrada: '\n",
        "op_string += '\\n s para sair: '\n",
        "while True:\n",
        "  a = float(input('Digite o primeiro número: '))\n",
        "\n",
        "  b = float(input('Digite o segundo número: '))\n",
        "\n",
        "  operacao = input(op_string)\n",
        "\n",
        "  if operacao == '+':\n",
        "    print(soma(a, b))\n",
        "  if operacao == '-':\n",
        "    print(sub(a, b))\n",
        "  if operacao == '*':\n",
        "    print(mult(a, b))\n",
        "  if operacao == '/':\n",
        "    if b == 0:\n",
        "      print('Não é possível dividir por zero')\n",
        "    else:\n",
        "      print(div(a, b))\n",
        "  if operacao == 'p':\n",
        "    print(pot(a, b))\n",
        "  if operacao == 'r':\n",
        "    print(raiz(a, b))\n",
        "  if operacao == 's':\n",
        "    break\n",
        ""
      ],
      "metadata": {
        "colab": {
          "base_uri": "https://localhost:8080/",
          "height": 384
        },
        "id": "tfvdc9jEm-q8",
        "outputId": "dbaff984-b438-4652-a034-3837f1bd08b0"
      },
      "execution_count": 15,
      "outputs": [
        {
          "name": "stdout",
          "output_type": "stream",
          "text": [
            "Digite o primeiro número: 6\n",
            "Digite o segundo número: 2\n",
            "Digite + para soma, - para subtração\n",
            " * para multiplição, \n",
            " / para divisão ou \n",
            " p para potenciação ou \n",
            " r para raiz quadrada: \n",
            " s para sair: /\n",
            "3.0\n",
            "Digite o primeiro número: s\n"
          ]
        },
        {
          "output_type": "error",
          "ename": "ValueError",
          "evalue": "could not convert string to float: 's'",
          "traceback": [
            "\u001b[0;31m---------------------------------------------------------------------------\u001b[0m",
            "\u001b[0;31mValueError\u001b[0m                                Traceback (most recent call last)",
            "\u001b[0;32m<ipython-input-15-fb178341bd2b>\u001b[0m in \u001b[0;36m<cell line: 0>\u001b[0;34m()\u001b[0m\n\u001b[1;32m      6\u001b[0m \u001b[0mop_string\u001b[0m \u001b[0;34m+=\u001b[0m \u001b[0;34m'\\n s para sair: '\u001b[0m\u001b[0;34m\u001b[0m\u001b[0;34m\u001b[0m\u001b[0m\n\u001b[1;32m      7\u001b[0m \u001b[0;32mwhile\u001b[0m \u001b[0;32mTrue\u001b[0m\u001b[0;34m:\u001b[0m\u001b[0;34m\u001b[0m\u001b[0;34m\u001b[0m\u001b[0m\n\u001b[0;32m----> 8\u001b[0;31m   \u001b[0ma\u001b[0m \u001b[0;34m=\u001b[0m \u001b[0mfloat\u001b[0m\u001b[0;34m(\u001b[0m\u001b[0minput\u001b[0m\u001b[0;34m(\u001b[0m\u001b[0;34m'Digite o primeiro número: '\u001b[0m\u001b[0;34m)\u001b[0m\u001b[0;34m)\u001b[0m\u001b[0;34m\u001b[0m\u001b[0;34m\u001b[0m\u001b[0m\n\u001b[0m\u001b[1;32m      9\u001b[0m \u001b[0;34m\u001b[0m\u001b[0m\n\u001b[1;32m     10\u001b[0m   \u001b[0mb\u001b[0m \u001b[0;34m=\u001b[0m \u001b[0mfloat\u001b[0m\u001b[0;34m(\u001b[0m\u001b[0minput\u001b[0m\u001b[0;34m(\u001b[0m\u001b[0;34m'Digite o segundo número: '\u001b[0m\u001b[0;34m)\u001b[0m\u001b[0;34m)\u001b[0m\u001b[0;34m\u001b[0m\u001b[0;34m\u001b[0m\u001b[0m\n",
            "\u001b[0;31mValueError\u001b[0m: could not convert string to float: 's'"
          ]
        }
      ]
    }
  ]
}